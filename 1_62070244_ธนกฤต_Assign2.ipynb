{
  "nbformat": 4,
  "nbformat_minor": 0,
  "metadata": {
    "colab": {
      "name": "1_62070244_ธนกฤต_Assign2.ipynb",
      "provenance": [],
      "collapsed_sections": []
    },
    "kernelspec": {
      "display_name": "Python 3",
      "name": "python3"
    },
    "language_info": {
      "name": "python"
    }
  },
  "cells": [
    {
      "cell_type": "markdown",
      "metadata": {
        "id": "_reaaB5Otdqn"
      },
      "source": [
        "**นายธนกฤต พิชญาวุธ 62070244**"
      ]
    },
    {
      "cell_type": "markdown",
      "metadata": {
        "id": "iw0SfkKLtnku"
      },
      "source": [
        "# **Assignment 2 - Individual Assignment**"
      ]
    },
    {
      "cell_type": "markdown",
      "metadata": {
        "id": "HZYtRVnrtz1p"
      },
      "source": [
        "## **Part 1: Data Collection**"
      ]
    },
    {
      "cell_type": "markdown",
      "metadata": {
        "id": "NZUSr2nGt3_K"
      },
      "source": [
        "**Import package Etc.**"
      ]
    },
    {
      "cell_type": "code",
      "metadata": {
        "id": "ltfrySn7YLNe"
      },
      "source": [
        "import numpy as np\n",
        "import pandas as pd\n",
        "import requests\n",
        "import bs4\n",
        "import os\n",
        "from sklearn.feature_extraction.text import CountVectorizer\n",
        "from sklearn.feature_extraction import text\n",
        "from nltk.stem import WordNetLemmatizer \n",
        "from nltk.stem.porter import PorterStemmer\n",
        "from sklearn.feature_extraction.text import TfidfVectorizer\n",
        "from sklearn.model_selection import train_test_split, RandomizedSearchCV, GridSearchCV\n",
        "from sklearn.metrics import accuracy_score\n",
        "from sklearn.naive_bayes import MultinomialNB\n",
        "from sklearn.neural_network import MLPClassifier\n",
        "from sklearn.ensemble import RandomForestClassifier\n",
        "from sklearn.linear_model import LogisticRegression\n",
        "from sklearn.svm import SVC\n",
        "from sklearn.neighbors import KNeighborsClassifier\n",
        "from sklearn.metrics import accuracy_score\n",
        "from sklearn.model_selection import cross_val_score\n",
        "import matplotlib.pyplot as plt\n",
        "import seaborn as sns"
      ],
      "execution_count": 1,
      "outputs": []
    },
    {
      "cell_type": "code",
      "metadata": {
        "colab": {
          "base_uri": "https://localhost:8080/"
        },
        "id": "zUj08zF5c-yo",
        "outputId": "c03c3f7f-6283-48dc-b996-afa1fb347f9c"
      },
      "source": [
        "import nltk\n",
        "nltk.download('wordnet')"
      ],
      "execution_count": 2,
      "outputs": [
        {
          "output_type": "stream",
          "name": "stdout",
          "text": [
            "[nltk_data] Downloading package wordnet to /root/nltk_data...\n",
            "[nltk_data]   Unzipping corpora/wordnet.zip.\n"
          ]
        },
        {
          "output_type": "execute_result",
          "data": {
            "text/plain": [
              "True"
            ]
          },
          "metadata": {},
          "execution_count": 2
        }
      ]
    },
    {
      "cell_type": "markdown",
      "metadata": {
        "id": "ABd3Hj6jwgGE"
      },
      "source": [
        "### **1. ระบุหา URLs และ news category labels ทั้งหมด**"
      ]
    },
    {
      "cell_type": "code",
      "metadata": {
        "id": "7L5f9pnbviZ4"
      },
      "source": [
        "#สร้าง List ไว้สำหรับเก็บค่าต่างๆ\n",
        "list_month = []\n",
        "link_list = []\n",
        "list_target = []\n",
        "list_content = []\n",
        "list_heading = []"
      ],
      "execution_count": 3,
      "outputs": []
    },
    {
      "cell_type": "code",
      "metadata": {
        "id": "zFTXTpFfvKl4"
      },
      "source": [
        "def get_article_data():\n",
        "  ''' Function นี้ไว้ scrape ข้อมูลตั้งแต่ root URL และ crawl ตาม anchor link ที่ปรากฏ ทำการสกัดข้อมูลส่วนที่เป็น title text กับ body text'''\n",
        "  #scape ข้อมูลที่เป็น link ในแต่ละเดือนของ root URL \n",
        "  response = requests.get('http://www.it.kmitl.ac.th/~teerapong/news_archive/index.html')\n",
        "  soup = bs4.BeautifulSoup(response.content, 'lxml')\n",
        "  a_tag=soup.find_all('a')\n",
        "  for month in a_tag[:12]:\n",
        "    list_month.append(month['href'])\n",
        "  #scape ข้อมูลที่เป็น link ในแต่ละ link ของเดือน\n",
        "  for month in list_month:\n",
        "    response = requests.get('http://www.it.kmitl.ac.th/~teerapong/news_archive/'+ month)\n",
        "    soup = bs4.BeautifulSoup(response.content, 'lxml')\n",
        "    a_tag = soup.find_all('a')\n",
        "    for link in a_tag[:-4]:\n",
        "      link_list.append(link['href'])\n",
        "    targets = soup.find_all('td', class_='category')\n",
        "    #เก็บข้อมูลในแต่ละ link ที่เป็น category ไว้ใน List\n",
        "    for target in targets:\n",
        "      if 'N/A' not in target.text:\n",
        "          list_target.append(target.text.replace('\\xa0', ''))\n",
        "  #scape ข้อมูลในแต่ละ link เพื่อเก็บข้อมูลที่ต้องการ\n",
        "  for link in link_list:\n",
        "    response = requests.get('http://www.it.kmitl.ac.th/~teerapong/news_archive/'+link)\n",
        "    soup = bs4.BeautifulSoup(response.content, 'lxml')\n",
        "    #สกัดหาข้อความที่เป็น contents และ heading\n",
        "    contents = soup.find_all('p', class_=False)\n",
        "    heading = soup.find('h2')\n",
        "    #วน loop ทำการนำข้อมูลมาต่อกัน\n",
        "    only_content = ''\n",
        "    for content in contents:\n",
        "      only_content += content.text\n",
        "    #เพิ่มข้อมูลส่วน heading และ content ไว้ใน List\n",
        "    list_heading.append(heading.text)\n",
        "    list_content.append(only_content)\n",
        "get_article_data()"
      ],
      "execution_count": 4,
      "outputs": []
    },
    {
      "cell_type": "markdown",
      "metadata": {
        "id": "MSCMkOV6xbJV"
      },
      "source": [
        "### **2. ทำการ save เนื้อหาข้อมูล โดยตั้งชื่อไฟล์ให้สื่อความหมายและใช้นามสกุล .txt**"
      ]
    },
    {
      "cell_type": "code",
      "metadata": {
        "id": "xvAMe6XSugfi"
      },
      "source": [
        "def create_article_file():\n",
        "  ''' Function นี้ไว้ สร้าง Foler และ ทำการสร้าง File นามสกุล txt จากข้อมูลที่เก็บไว้ใน List'''\n",
        "  #สร้าง Sub Folder เพื่อที่จะไว้เก็บข้อมูล\n",
        "  os.makedirs('data/datastore/content/')\n",
        "  os.makedirs('data/datastore/heading/')\n",
        "  os.makedirs('data/datastore/heading_plus_content/')\n",
        "  os.makedirs('data/target/')\n",
        "  for idx, link in enumerate(link_list):\n",
        "    #สร้างไฟล์ที่เก็บข้อมูลเฉพาะเนื้อหาของข่าวทั้งหมดไว้ในโฟลเดอร์ content โดยแยกเป็นข่าวละไฟล์\n",
        "    with open('data/datastore/content/'+ link[:-5] + '.txt', 'w') as write_file:\n",
        "        write_file.write(list_content[idx])\n",
        "    write_file.close()\n",
        "    #สร้างไฟล์ที่เก็บข้อมูลเฉพาะชื่อเรื่องของข่าวทั้งหมดไว้ในโฟลเดอร์ heading โดยแยกเป็นข่าวละไฟล์\n",
        "    with open('data/datastore/heading/'+ link[:-5] + '.txt', 'w') as write_file:\n",
        "      write_file.write(list_heading[idx])\n",
        "    write_file.close()\n",
        "    #สร้างไฟล์ที่เก็บข้อมูลชื่อเรื่องและเนื้อหาของข่าวทั้งหมดไว้ในโฟลเดอร์ heading plus content โดยแยกเป็นข่าวละไฟล์\n",
        "    with open('data/datastore/heading_plus_content/'+ link[:-5] + '.txt', 'w') as write_file:\n",
        "      write_file.write(list_heading[idx])\n",
        "      write_file.write('\\n')\n",
        "      write_file.write(list_content[idx])\n",
        "    write_file.close()\n",
        "  #สร้างไฟล์ที่เก็บข้อมูลของข่าวทั้งหมดเฉพาะแค่ส่วนของเนื้อหาไว้ในไฟล์เดียว\n",
        "  with open('data/datastore/AllArticles_OnlyContent.txt', 'w') as write_file:\n",
        "    write_file.writelines('\\n'.join(list_content))\n",
        "  write_file.close()\n",
        "  #สร้างไฟล์ที่เก็บข้อมูลของข่าวทั้งหมดในส่วนของชื่อเรื่องและเนื้อหาไว้ในไฟล์เดียว\n",
        "  with open('data/datastore/AllArticles_HeadingPlusContent.txt', 'w') as write_file:\n",
        "    for idx, link in enumerate(link_list):\n",
        "      write_file.write(list_heading[idx])\n",
        "      write_file.write(' ')\n",
        "      write_file.write(list_content[idx])\n",
        "      if idx != 1407:\n",
        "        write_file.write('\\n')\n",
        "  write_file.close()\n",
        "  #สร้างไฟล์ที่เก็บข้อมูลประเภทของของข่าวทั้งหมดไว้ในไฟล์เดียว\n",
        "  with open('data/target/category.txt', 'w') as write_file:\n",
        "      write_file.writelines('\\n'.join(list_target))\n",
        "  write_file.close()\n",
        "create_article_file()"
      ],
      "execution_count": 5,
      "outputs": []
    },
    {
      "cell_type": "markdown",
      "metadata": {
        "id": "iWXlH5CvyuEx"
      },
      "source": [
        "## **Part 2: Text Classification**"
      ]
    },
    {
      "cell_type": "markdown",
      "metadata": {
        "id": "WNZvpLFWzV0z"
      },
      "source": [
        "### **1. Load Data**"
      ]
    },
    {
      "cell_type": "code",
      "metadata": {
        "id": "NjKqxlpJWptL"
      },
      "source": [
        "def load_data():\n",
        "  '''funcion นี้ ไว้สำหรับโหลดข้อมูลที่ save ไว้ มาสร้างเป็น DataFrame'''\n",
        "  df_article = pd.read_csv('/content/data/datastore/AllArticles_HeadingPlusContent.txt', sep='\\n', header=None, names=['AllArticles_HeadingPlusContent'])\n",
        "  df_article['AllArticles_OnlyContent'] = pd.read_csv('/content/data/datastore/AllArticles_OnlyContent.txt', sep='\\n', header=None)\n",
        "  df_article['category'] = pd.read_csv('/content/data/target/category.txt', header=None)\n",
        "  return df_article"
      ],
      "execution_count": 6,
      "outputs": []
    },
    {
      "cell_type": "code",
      "metadata": {
        "id": "5WUwP7QrXhQh"
      },
      "source": [
        "df_article = load_data()"
      ],
      "execution_count": 7,
      "outputs": []
    },
    {
      "cell_type": "code",
      "metadata": {
        "colab": {
          "base_uri": "https://localhost:8080/",
          "height": 419
        },
        "id": "j62rPtnEeeSF",
        "outputId": "95e83d52-5653-4d4b-b6f7-658faa2a2454"
      },
      "source": [
        "df_article"
      ],
      "execution_count": 8,
      "outputs": [
        {
          "output_type": "execute_result",
          "data": {
            "text/html": [
              "<div>\n",
              "<style scoped>\n",
              "    .dataframe tbody tr th:only-of-type {\n",
              "        vertical-align: middle;\n",
              "    }\n",
              "\n",
              "    .dataframe tbody tr th {\n",
              "        vertical-align: top;\n",
              "    }\n",
              "\n",
              "    .dataframe thead th {\n",
              "        text-align: right;\n",
              "    }\n",
              "</style>\n",
              "<table border=\"1\" class=\"dataframe\">\n",
              "  <thead>\n",
              "    <tr style=\"text-align: right;\">\n",
              "      <th></th>\n",
              "      <th>AllArticles_HeadingPlusContent</th>\n",
              "      <th>AllArticles_OnlyContent</th>\n",
              "      <th>category</th>\n",
              "    </tr>\n",
              "  </thead>\n",
              "  <tbody>\n",
              "    <tr>\n",
              "      <th>0</th>\n",
              "      <td>21st-Century Sports: How Digital Technology Is...</td>\n",
              "      <td>The sporting industry has come a long way sinc...</td>\n",
              "      <td>technology</td>\n",
              "    </tr>\n",
              "    <tr>\n",
              "      <th>1</th>\n",
              "      <td>Asian quake hits European shares Asian quake h...</td>\n",
              "      <td>Asian quake hits European sharesShares in Euro...</td>\n",
              "      <td>business</td>\n",
              "    </tr>\n",
              "    <tr>\n",
              "      <th>2</th>\n",
              "      <td>BT offers free net phone calls BT is offering ...</td>\n",
              "      <td>BT is offering customers free internet telepho...</td>\n",
              "      <td>technology</td>\n",
              "    </tr>\n",
              "    <tr>\n",
              "      <th>3</th>\n",
              "      <td>Barclays shares up on merger talk Barclays sha...</td>\n",
              "      <td>Barclays shares up on merger talkShares in UK ...</td>\n",
              "      <td>business</td>\n",
              "    </tr>\n",
              "    <tr>\n",
              "      <th>4</th>\n",
              "      <td>Barkley fit for match in Ireland England centr...</td>\n",
              "      <td>England centre Olly Barkley has been passed fi...</td>\n",
              "      <td>sport</td>\n",
              "    </tr>\n",
              "    <tr>\n",
              "      <th>...</th>\n",
              "      <td>...</td>\n",
              "      <td>...</td>\n",
              "      <td>...</td>\n",
              "    </tr>\n",
              "    <tr>\n",
              "      <th>1403</th>\n",
              "      <td>Woodward eyes Brennan for Lions Woodward eyes ...</td>\n",
              "      <td>Woodward eyes Brennan for LionsToulouse's form...</td>\n",
              "      <td>sport</td>\n",
              "    </tr>\n",
              "    <tr>\n",
              "      <th>1404</th>\n",
              "      <td>WorldCom trial starts in New York The trial of...</td>\n",
              "      <td>The trial of Bernie Ebbers, former chief execu...</td>\n",
              "      <td>business</td>\n",
              "    </tr>\n",
              "    <tr>\n",
              "      <th>1405</th>\n",
              "      <td>Yukos accused of lying to court Yukos accused ...</td>\n",
              "      <td>Yukos accused of lying to courtRussian oil fir...</td>\n",
              "      <td>business</td>\n",
              "    </tr>\n",
              "    <tr>\n",
              "      <th>1406</th>\n",
              "      <td>Yukos drops banks from court bid Russian oil c...</td>\n",
              "      <td>Russian oil company Yukos has dropped the thre...</td>\n",
              "      <td>business</td>\n",
              "    </tr>\n",
              "    <tr>\n",
              "      <th>1407</th>\n",
              "      <td>Zambia confident and cautious Zambia's technic...</td>\n",
              "      <td>Zambia's technical director, Kalusha Bwalya is...</td>\n",
              "      <td>sport</td>\n",
              "    </tr>\n",
              "  </tbody>\n",
              "</table>\n",
              "<p>1408 rows × 3 columns</p>\n",
              "</div>"
            ],
            "text/plain": [
              "                         AllArticles_HeadingPlusContent  ...    category\n",
              "0     21st-Century Sports: How Digital Technology Is...  ...  technology\n",
              "1     Asian quake hits European shares Asian quake h...  ...    business\n",
              "2     BT offers free net phone calls BT is offering ...  ...  technology\n",
              "3     Barclays shares up on merger talk Barclays sha...  ...    business\n",
              "4     Barkley fit for match in Ireland England centr...  ...       sport\n",
              "...                                                 ...  ...         ...\n",
              "1403  Woodward eyes Brennan for Lions Woodward eyes ...  ...       sport\n",
              "1404  WorldCom trial starts in New York The trial of...  ...    business\n",
              "1405  Yukos accused of lying to court Yukos accused ...  ...    business\n",
              "1406  Yukos drops banks from court bid Russian oil c...  ...    business\n",
              "1407  Zambia confident and cautious Zambia's technic...  ...       sport\n",
              "\n",
              "[1408 rows x 3 columns]"
            ]
          },
          "metadata": {},
          "execution_count": 8
        }
      ]
    },
    {
      "cell_type": "markdown",
      "metadata": {
        "id": "crhlFJOK0W4_"
      },
      "source": [
        "### **2. Text Preprocessing**"
      ]
    },
    {
      "cell_type": "markdown",
      "metadata": {
        "id": "L1Vv0S5ncfOL"
      },
      "source": [
        "#### **Tokenising Stopword**"
      ]
    },
    {
      "cell_type": "markdown",
      "metadata": {
        "id": "24iUttqBDlSk"
      },
      "source": [
        "Tokenize คือการตัดคำของประโยค\n",
        "\n",
        "Stop word คือคำทั่วไปๆที่พบบ่อยในประโยค\n",
        "\n",
        "Normalize จะทำให้คำนั้นเป็นตัวพิมพ์เล็ก"
      ]
    },
    {
      "cell_type": "code",
      "metadata": {
        "id": "IwvMDkOUBGs8"
      },
      "source": [
        "def tokenising_stopword(txt):\n",
        "  '''Function นี้ไว้ทำการแบ่งคำ โดยใช้  tokenize จากนั้นจะทำการลบคำที่เป็น stopwords ออกไป และทำการ normalize ให้คำนั้นเป็นตัวพิมพ์เล็ก'''\n",
        "  tokenize = CountVectorizer().build_tokenizer()\n",
        "  stopwords = text.ENGLISH_STOP_WORDS\n",
        "  tokens = tokenize(txt)\n",
        "  result = [word.lower() for word in tokens if word not in stopwords]\n",
        "  return result"
      ],
      "execution_count": 9,
      "outputs": []
    },
    {
      "cell_type": "code",
      "metadata": {
        "id": "e6WM9DFBZ82j"
      },
      "source": [
        "#เรียกใช้งาน function ของทั้ง 2 Columns\n",
        "df_article['stopwords_AllArticles_OnlyContent'] = df_article['AllArticles_OnlyContent'].apply(lambda word: tokenising_stopword(word))\n",
        "df_article['stopwords_AllArticles_HeadingPlusContent'] = df_article['AllArticles_HeadingPlusContent'].apply(lambda word: tokenising_stopword(word))"
      ],
      "execution_count": 10,
      "outputs": []
    },
    {
      "cell_type": "markdown",
      "metadata": {
        "id": "MfN9kQX9cj27"
      },
      "source": [
        "####**Stemming**"
      ]
    },
    {
      "cell_type": "markdown",
      "metadata": {
        "id": "5ClzUiTOFRsr"
      },
      "source": [
        "Stemming คือการตัดคำด้วย Heuristic สำหรับคำส่วนใหญ่แต่จะไม่ทุกคำ"
      ]
    },
    {
      "cell_type": "code",
      "metadata": {
        "id": "HWi2OiAfsy8g"
      },
      "source": [
        "def stemming(txt):\n",
        "  '''Function นี้ไว้ทำการลดฟอร์มของคำให้เป็นกลุ่มๆเดียวกัน โดยใช้กระบวนการของ Stemming และทำการ join ข้อความให้เป็นประโยคเหมือนเดิม'''\n",
        "  stemmer = PorterStemmer()\n",
        "  result = ' '.join([stemmer.stem(word) for word in txt])\n",
        "  return result"
      ],
      "execution_count": 11,
      "outputs": []
    },
    {
      "cell_type": "code",
      "metadata": {
        "id": "OTg3xopITzDW"
      },
      "source": [
        "df_article['stemming_AllArticles_OnlyContent'] = df_article['stopwords_AllArticles_OnlyContent'].apply(lambda word: stemming(word))\n",
        "df_article['stemming_AllArticles_HeadingPlusContent'] = df_article['stopwords_AllArticles_HeadingPlusContent'].apply(lambda word: stemming(word))"
      ],
      "execution_count": 12,
      "outputs": []
    },
    {
      "cell_type": "markdown",
      "metadata": {
        "id": "r3DlnnrgdBX6"
      },
      "source": [
        "####**Lemmatization**"
      ]
    },
    {
      "cell_type": "markdown",
      "metadata": {
        "id": "eo7PFR-2FpE_"
      },
      "source": [
        "Lemmatization คือ กระบวนการในการแปลง Word ด้วยรายการคำศัพท์ใน Dictionary โดยส่วนใหญ่จะตัดในส่วนท้ายของคำ ให้อยู่ในรูปฟอร์มพื้นฐาน"
      ]
    },
    {
      "cell_type": "code",
      "metadata": {
        "id": "4zyzePXedFt_"
      },
      "source": [
        "def lemmatizer(txt):\n",
        "  '''Function นี้ไว้ทำการลดฟอร์มของคำให้เป็นกลุ่มๆเดียวกัน โดยใช้กระบวนการของ Lemmatizer และทำการ join ข้อความให้เป็นประโยคเหมือนเดิม'''\n",
        "  lemmatizer = WordNetLemmatizer()\n",
        "  result = ' '.join([lemmatizer.lemmatize(word) for word in txt])\n",
        "  return result"
      ],
      "execution_count": 13,
      "outputs": []
    },
    {
      "cell_type": "code",
      "metadata": {
        "id": "n-fd20WXdNZh"
      },
      "source": [
        "#เรียกใช้งาน function ของทั้ง 2 Columns\n",
        "df_article['lemmatizer_AllArticles_OnlyContent'] = df_article['stopwords_AllArticles_OnlyContent'].apply(lambda word: lemmatizer(word))\n",
        "df_article['lemmatizer_AllArticles_HeadingPlusContent'] = df_article['stopwords_AllArticles_HeadingPlusContent'].apply(lambda word: lemmatizer(word))"
      ],
      "execution_count": 14,
      "outputs": []
    },
    {
      "cell_type": "markdown",
      "metadata": {
        "id": "F6icHdmWdkm1"
      },
      "source": [
        "####**TF-IDF**"
      ]
    },
    {
      "cell_type": "markdown",
      "metadata": {
        "id": "NSR4jsBKGO5W"
      },
      "source": [
        "TFIDF (term frequency-inverse document frequency) จะช่วยทำการกรองคำที่มีความ common ออกไป ทำให้รู้ว่าเอกสารแต่ละอันเป็นเรื่องอะไร"
      ]
    },
    {
      "cell_type": "code",
      "metadata": {
        "id": "j_9XZmqtgJkt"
      },
      "source": [
        "def tf_idf(df):\n",
        "  '''Function ไว้สำหรับแปลงข้อมูลข้อความและถ่วงน้ำหนักคำและตัดคำที่มีค่าน้อยออกไป'''\n",
        "  vectorizer = TfidfVectorizer(min_df = 5)\n",
        "  X = vectorizer.fit_transform(df)\n",
        "  return X"
      ],
      "execution_count": 15,
      "outputs": []
    },
    {
      "cell_type": "markdown",
      "metadata": {
        "id": "-O6TunqV0s-D"
      },
      "source": [
        "### **3. Multiclass Classification Model**"
      ]
    },
    {
      "cell_type": "markdown",
      "metadata": {
        "id": "b08xFVsUfVtl"
      },
      "source": [
        "#### **Hyperparameter optimization**"
      ]
    },
    {
      "cell_type": "markdown",
      "metadata": {
        "id": "xCWjs1FkHN_6"
      },
      "source": [
        "Hyperparameter optimization คือการหาค่า Parameter ต่างๆที่เหมาะสมในสำหรับแต่ละโมเดลและชุดข้อมูล \n",
        "\n",
        "โดยจะใช้ RandomizedSearchCV ในการหาค่า Parameter"
      ]
    },
    {
      "cell_type": "code",
      "metadata": {
        "id": "uAAdgxYHFGCF"
      },
      "source": [
        "X = tf_idf(df_article['stemming_AllArticles_OnlyContent'])\n",
        "y = df_article['category']"
      ],
      "execution_count": 16,
      "outputs": []
    },
    {
      "cell_type": "markdown",
      "metadata": {
        "id": "_T1LaEWu8Bad"
      },
      "source": [
        "#####**Neural network**"
      ]
    },
    {
      "cell_type": "code",
      "metadata": {
        "colab": {
          "base_uri": "https://localhost:8080/"
        },
        "id": "WNylci0y8qux",
        "outputId": "7bf92428-363a-42da-ed31-fbc11f20fc71"
      },
      "source": [
        "parameters = {'learning_rate_init':[0.01, 0.1, 0.05],\n",
        "              'momentum':[0.1, 0.3, 0.5, 0.9]\n",
        "}\n",
        "\n",
        "model_net = MLPClassifier(solver='adam',\n",
        "                          activation='logistic'\n",
        ")\n",
        "\n",
        "model_net = RandomizedSearchCV(\n",
        "    model_net, \n",
        "    parameters, \n",
        "    cv=5,\n",
        "    scoring='accuracy',\n",
        ")\n",
        "\n",
        "model_net.fit(X, y)\n",
        "\n",
        "print(f'Best parameters {model_net.best_params_}')\n",
        "print(f'Mean cross-validated accuracy score of the best_estimator: {model_net.best_score_:.3f}')"
      ],
      "execution_count": 17,
      "outputs": [
        {
          "output_type": "stream",
          "name": "stdout",
          "text": [
            "Best parameters {'momentum': 0.3, 'learning_rate_init': 0.1}\n",
            "Mean cross-validated accuracy score of the best_estimator: 0.984\n"
          ]
        }
      ]
    },
    {
      "cell_type": "markdown",
      "metadata": {
        "id": "IauqvW94oBTB"
      },
      "source": [
        "#####**SVM**"
      ]
    },
    {
      "cell_type": "code",
      "metadata": {
        "colab": {
          "base_uri": "https://localhost:8080/"
        },
        "id": "TGXQzmj1oEGp",
        "outputId": "d2e85e91-b5c5-4af8-a97e-eec698b49974"
      },
      "source": [
        "parameters = {\n",
        "    \"C\": [0.001, 0.01, 0.1, 1.],\n",
        "    \"kernel\": [\"linear\", \"poly\", \"rbf\", \"sigmoid\"],\n",
        "    \"gamma\": [\"scale\", \"auto\"],\n",
        "}\n",
        "\n",
        "model_svc = SVC(\n",
        "    random_state=42,\n",
        "    class_weight=\"balanced\",\n",
        "    probability=True,\n",
        ")\n",
        "\n",
        "model_svc = RandomizedSearchCV(\n",
        "    model_svc, \n",
        "    parameters, \n",
        "    cv=5,\n",
        "    scoring='accuracy',\n",
        ")\n",
        "\n",
        "model_svc.fit(X, y)\n",
        "\n",
        "print(f'Best parameters {model_svc.best_params_}')\n",
        "print(f'Mean cross-validated accuracy score of the best_estimator: {model_svc.best_score_:.3f}')"
      ],
      "execution_count": 18,
      "outputs": [
        {
          "output_type": "stream",
          "name": "stdout",
          "text": [
            "Best parameters {'kernel': 'linear', 'gamma': 'auto', 'C': 1.0}\n",
            "Mean cross-validated accuracy score of the best_estimator: 0.985\n"
          ]
        }
      ]
    },
    {
      "cell_type": "markdown",
      "metadata": {
        "id": "-subscT8nlj9"
      },
      "source": [
        "#####**Logistic Regression**"
      ]
    },
    {
      "cell_type": "code",
      "metadata": {
        "colab": {
          "base_uri": "https://localhost:8080/"
        },
        "id": "GM4UlSdsno9e",
        "outputId": "857b682f-679f-4cf9-93c0-4cf89a807778"
      },
      "source": [
        "parameters = {\n",
        "    \"C\": [1e-5, 1e-4, 1e-3, 1e-2, 1e-1, 1, 10, 100],\n",
        "    \"solver\": ['newton-cg', 'lbfgs', 'liblinear'],\n",
        "    'penalty' : ['l1', 'l2', 'elasticnet']\n",
        "}\n",
        "\n",
        "model_logistic_regression = LogisticRegression(\n",
        "    random_state=42,\n",
        "    class_weight=\"balanced\"\n",
        ")\n",
        "\n",
        "model_logistic_regression = RandomizedSearchCV(\n",
        "    model_logistic_regression, \n",
        "    parameters, \n",
        "    cv=5,\n",
        "    scoring='accuracy', n_jobs=-1\n",
        ")\n",
        "\n",
        "model_logistic_regression.fit(X, y)\n",
        "\n",
        "print(f'Best parameters {model_logistic_regression.best_params_}')\n",
        "print(f'Mean cross-validated accuracy score of the best_estimator: {model_logistic_regression.best_score_:.3f}')"
      ],
      "execution_count": 19,
      "outputs": [
        {
          "output_type": "stream",
          "name": "stdout",
          "text": [
            "Best parameters {'solver': 'newton-cg', 'penalty': 'l2', 'C': 0.01}\n",
            "Mean cross-validated accuracy score of the best_estimator: 0.974\n"
          ]
        }
      ]
    },
    {
      "cell_type": "markdown",
      "metadata": {
        "id": "1NEkAhkLXcbB"
      },
      "source": [
        "#####**KNeighborsClassifier**"
      ]
    },
    {
      "cell_type": "code",
      "metadata": {
        "colab": {
          "base_uri": "https://localhost:8080/"
        },
        "id": "JDzgWQx9WsgX",
        "outputId": "6d62c6e4-d2d0-4db1-b9a5-4879ce4b7d3d"
      },
      "source": [
        "parameters = {\n",
        "    'n_neighbors':[2,3,4,5,6,7,8,9,10],\n",
        "    'weights':['uniform', 'distance'],\n",
        "    'leaf_size':[10,20,30,40,50,60,70,80,90,100],\n",
        "    'p':[1,2]\n",
        "}\n",
        "\n",
        "model_KNeighborsClassifier = KNeighborsClassifier()\n",
        "\n",
        "model_KNeighborsClassifier = RandomizedSearchCV(\n",
        "    model_KNeighborsClassifier, \n",
        "    parameters, \n",
        "    cv=5,\n",
        "    scoring='accuracy', n_jobs=-1\n",
        ")\n",
        "\n",
        "model_KNeighborsClassifier.fit(X, y)\n",
        "\n",
        "print(f'Best parameters {model_KNeighborsClassifier.best_params_}')\n",
        "print(f'Mean cross-validated accuracy score of the best_estimator: {model_KNeighborsClassifier.best_score_:.3f}')"
      ],
      "execution_count": 20,
      "outputs": [
        {
          "output_type": "stream",
          "name": "stdout",
          "text": [
            "Best parameters {'weights': 'uniform', 'p': 2, 'n_neighbors': 6, 'leaf_size': 30}\n",
            "Mean cross-validated accuracy score of the best_estimator: 0.968\n"
          ]
        }
      ]
    },
    {
      "cell_type": "markdown",
      "metadata": {
        "id": "G51Y-yWe6MBX"
      },
      "source": [
        "####**Apply Model With Hyper Parameter**"
      ]
    },
    {
      "cell_type": "markdown",
      "metadata": {
        "id": "R7F8ddHcfB1D"
      },
      "source": [
        "เมื่อได้ค่า Parameter ที่เหมาะสมกับโมเดลและชุดข้อมูลแล้ว จะมีวิธีทั้งหมดต่อไปดังนี้\n",
        "\n",
        "\n",
        "\n",
        "1.   ใช้ข้อมูลที่เป็นส่วนเนื้อหาในการทำ Stemming และ Lemmatisation\n",
        "2.   ใช้ข้อมูลที่เป็นชื่อเรื่องกับเนื้อหาในการทำ Stemming และ Lemmatisation\n",
        "\n",
        "\n",
        "\n"
      ]
    },
    {
      "cell_type": "markdown",
      "metadata": {
        "id": "Gf0WRFojgKaL"
      },
      "source": [
        "ขั้นตอนในการทำมีดังต่อไปนี้\n",
        "\n",
        "\n",
        "1.   ทำการกำหนดตัวแปร X คิอข้อความที่ใช้ และ Y คือเป้าหมาย\n",
        "2.   ทำการ Cross Validation หรือการแบ่งข้อมูลที่จะนำไปใช้เทรนโดยมีค่า k=5\n",
        "3.   ทำการเทรนโมเดลโดยจะใช้ loop ในการทำทั้งหมด 6 โมเดล\n",
        "2.   ทำการหาค่า Mean ของ Accuracy จากที่แบ่งไว้ 5 ครั้ง \n"
      ]
    },
    {
      "cell_type": "markdown",
      "metadata": {
        "id": "EXX5nWuekaj1"
      },
      "source": [
        "###### **AllArticles_OnlyContent**"
      ]
    },
    {
      "cell_type": "markdown",
      "metadata": {
        "id": "GrZDuDTFhDE-"
      },
      "source": [
        "**Stemming**"
      ]
    },
    {
      "cell_type": "code",
      "metadata": {
        "id": "KhkExOnXhMaI"
      },
      "source": [
        "X = tf_idf(df_article['stemming_AllArticles_OnlyContent'])\n",
        "y = df_article['category']"
      ],
      "execution_count": 21,
      "outputs": []
    },
    {
      "cell_type": "code",
      "metadata": {
        "colab": {
          "base_uri": "https://localhost:8080/"
        },
        "id": "likfGzQAlskd",
        "outputId": "098af19a-f845-4ddb-f3df-ee4cf171c05b"
      },
      "source": [
        "X.shape"
      ],
      "execution_count": 22,
      "outputs": [
        {
          "output_type": "execute_result",
          "data": {
            "text/plain": [
              "(1408, 5068)"
            ]
          },
          "metadata": {},
          "execution_count": 22
        }
      ]
    },
    {
      "cell_type": "code",
      "metadata": {
        "colab": {
          "base_uri": "https://localhost:8080/"
        },
        "id": "tdBwiIfJfxF7",
        "outputId": "192e3505-da83-4bcc-b4cc-98bc48b23f8c"
      },
      "source": [
        "original_models = {  \n",
        "     \n",
        "    \"Neural Network\": MLPClassifier(solver='adam', activation='logistic', momentum=0.3, learning_rate_init=0.09),\n",
        "    \"Logistic Regression\": LogisticRegression(solver='newton-cg', penalty='l2', C=10, random_state=42, class_weight=\"balanced\"),\n",
        "    \"Naive Bayes\": MultinomialNB(),\n",
        "    \"Support Vector Machine\": SVC(kernel='linear', gamma='scale', C=1.0, random_state=42, class_weight=\"balanced\", probability=True,),\n",
        "    \"Random Forest\": RandomForestClassifier(),\n",
        "    \"K-Nearest Neighbors\": KNeighborsClassifier(weights='distance', metric='euclidean')\n",
        "    \n",
        "}\n",
        "\n",
        "for name, model in original_models.items():\n",
        "  model.fit(X, y)\n",
        "  print(name + ' trained.')"
      ],
      "execution_count": 23,
      "outputs": [
        {
          "output_type": "stream",
          "name": "stdout",
          "text": [
            "Neural Network trained.\n",
            "Logistic Regression trained.\n",
            "Naive Bayes trained.\n",
            "Support Vector Machine trained.\n",
            "Random Forest trained.\n",
            "K-Nearest Neighbors trained.\n"
          ]
        }
      ]
    },
    {
      "cell_type": "code",
      "metadata": {
        "colab": {
          "base_uri": "https://localhost:8080/"
        },
        "id": "oxkPPDetghCd",
        "outputId": "d438d766-795e-472c-8300-8978b84a49cb"
      },
      "source": [
        "acc_scores = {}\n",
        "original_results = []\n",
        "for name, model in original_models.items():\n",
        "  acc_score = cross_val_score(model, X, y, cv=5, scoring=\"accuracy\")\n",
        "  original_results.append(acc_score.mean())\n",
        "\n",
        "  model = original_models[name]\n",
        "  print('------------------ ' + name + ' ------------------')\n",
        "  print(acc_score)\n",
        "  print(\"Mean cross-validation accuracy = %.3f\\n\" % acc_score.mean())\n",
        "  acc_scores[name] = acc_score.mean()"
      ],
      "execution_count": 24,
      "outputs": [
        {
          "output_type": "stream",
          "name": "stdout",
          "text": [
            "------------------ Neural Network ------------------\n",
            "[0.9822695  0.9929078  0.9822695  0.98220641 0.98220641]\n",
            "Mean cross-validation accuracy = 0.984\n",
            "\n",
            "------------------ Logistic Regression ------------------\n",
            "[0.9822695  0.9964539  0.9822695  0.98220641 0.97508897]\n",
            "Mean cross-validation accuracy = 0.984\n",
            "\n",
            "------------------ Naive Bayes ------------------\n",
            "[0.9893617  0.9929078  0.96453901 0.96797153 0.96797153]\n",
            "Mean cross-validation accuracy = 0.977\n",
            "\n",
            "------------------ Support Vector Machine ------------------\n",
            "[0.9858156  0.9893617  0.9787234  0.98576512 0.98576512]\n",
            "Mean cross-validation accuracy = 0.985\n",
            "\n",
            "------------------ Random Forest ------------------\n",
            "[0.9787234  0.9822695  0.96453901 0.95729537 0.95729537]\n",
            "Mean cross-validation accuracy = 0.968\n",
            "\n",
            "------------------ K-Nearest Neighbors ------------------\n",
            "[0.96808511 0.9751773  0.95744681 0.96797153 0.96441281]\n",
            "Mean cross-validation accuracy = 0.967\n",
            "\n"
          ]
        }
      ]
    },
    {
      "cell_type": "code",
      "metadata": {
        "id": "rc0VKR6CTtXO"
      },
      "source": [
        "df_score = pd.DataFrame(acc_scores, index=['OnlyContent_Stemming']).T.reset_index().rename(columns={'index': 'Model'})"
      ],
      "execution_count": 25,
      "outputs": []
    },
    {
      "cell_type": "markdown",
      "metadata": {
        "id": "rLxBDOH3hHC-"
      },
      "source": [
        "**Lemmatisation**"
      ]
    },
    {
      "cell_type": "code",
      "metadata": {
        "id": "dQEslRDYhRHL"
      },
      "source": [
        "X = tf_idf(df_article['lemmatizer_AllArticles_OnlyContent'])\n",
        "y = df_article['category']"
      ],
      "execution_count": 26,
      "outputs": []
    },
    {
      "cell_type": "code",
      "metadata": {
        "colab": {
          "base_uri": "https://localhost:8080/"
        },
        "id": "hVJ8TMC3l2cn",
        "outputId": "25337108-bd5d-4035-8782-1ee0cd775e90"
      },
      "source": [
        "X.shape"
      ],
      "execution_count": 27,
      "outputs": [
        {
          "output_type": "execute_result",
          "data": {
            "text/plain": [
              "(1408, 6227)"
            ]
          },
          "metadata": {},
          "execution_count": 27
        }
      ]
    },
    {
      "cell_type": "code",
      "metadata": {
        "colab": {
          "base_uri": "https://localhost:8080/"
        },
        "id": "L20M_Zwaj1Kw",
        "outputId": "82ead5d9-f937-4e0a-f25e-216df6224df5"
      },
      "source": [
        "original_models = {  \n",
        "     \n",
        "    \"Neural Network\": MLPClassifier(solver='adam', activation='logistic', momentum=0.3, learning_rate_init=0.09),\n",
        "    \"Logistic Regression\": LogisticRegression(solver='newton-cg', penalty='l2', C=10, random_state=42, class_weight=\"balanced\"),\n",
        "    \"Naive Bayes\": MultinomialNB(),\n",
        "    \"Support Vector Machine\": SVC(kernel='linear', gamma='scale', C=1.0, random_state=42, class_weight=\"balanced\", probability=True,),\n",
        "    \"Random Forest\": RandomForestClassifier(),\n",
        "    \"K-Nearest Neighbors\": KNeighborsClassifier(weights='distance', metric='euclidean')\n",
        "    \n",
        "}\n",
        "\n",
        "for name, model in original_models.items():\n",
        "  model.fit(X, y)\n",
        "  print(name + ' trained.')"
      ],
      "execution_count": 28,
      "outputs": [
        {
          "output_type": "stream",
          "name": "stdout",
          "text": [
            "Neural Network trained.\n",
            "Logistic Regression trained.\n",
            "Naive Bayes trained.\n",
            "Support Vector Machine trained.\n",
            "Random Forest trained.\n",
            "K-Nearest Neighbors trained.\n"
          ]
        }
      ]
    },
    {
      "cell_type": "code",
      "metadata": {
        "colab": {
          "base_uri": "https://localhost:8080/"
        },
        "id": "2EE37-5mkHVM",
        "outputId": "5db2d533-4157-4158-9539-fb1c04f4cd94"
      },
      "source": [
        "acc_scores = {}\n",
        "original_results = []\n",
        "for name, model in original_models.items():\n",
        "  acc_score = cross_val_score(model, X, y, cv=5, scoring=\"accuracy\")\n",
        "  original_results.append(acc_score.mean())\n",
        "\n",
        "  model = original_models[name]\n",
        "  print('------------------ ' + name + ' ------------------')\n",
        "  print(acc_score)\n",
        "  print(\"Mean cross-validation accuracy = %.3f\\n\" % acc_score.mean())\n",
        "  acc_scores[name] = acc_score.mean()"
      ],
      "execution_count": 29,
      "outputs": [
        {
          "output_type": "stream",
          "name": "stdout",
          "text": [
            "------------------ Neural Network ------------------\n",
            "[0.9822695  0.9929078  0.9787234  0.98220641 0.97508897]\n",
            "Mean cross-validation accuracy = 0.982\n",
            "\n",
            "------------------ Logistic Regression ------------------\n",
            "[0.9822695  0.9964539  0.9822695  0.98220641 0.97153025]\n",
            "Mean cross-validation accuracy = 0.983\n",
            "\n",
            "------------------ Naive Bayes ------------------\n",
            "[0.9858156  0.9929078  0.96453901 0.96441281 0.97153025]\n",
            "Mean cross-validation accuracy = 0.976\n",
            "\n",
            "------------------ Support Vector Machine ------------------\n",
            "[0.9858156  0.9893617  0.9822695  0.98220641 0.98220641]\n",
            "Mean cross-validation accuracy = 0.984\n",
            "\n",
            "------------------ Random Forest ------------------\n",
            "[0.9787234  0.9822695  0.96453901 0.96441281 0.95729537]\n",
            "Mean cross-validation accuracy = 0.969\n",
            "\n",
            "------------------ K-Nearest Neighbors ------------------\n",
            "[0.95744681 0.96808511 0.95744681 0.97153025 0.95017794]\n",
            "Mean cross-validation accuracy = 0.961\n",
            "\n"
          ]
        }
      ]
    },
    {
      "cell_type": "code",
      "metadata": {
        "id": "flBL-1eMkOZ-"
      },
      "source": [
        "df_score['OnlyContent_Lemmatizer'] = original_results"
      ],
      "execution_count": 30,
      "outputs": []
    },
    {
      "cell_type": "markdown",
      "metadata": {
        "id": "Jj6-PfN2ku7B"
      },
      "source": [
        "###### **AllArticles_HeadingPlusContent**"
      ]
    },
    {
      "cell_type": "markdown",
      "metadata": {
        "id": "SooAbsd_mKDR"
      },
      "source": [
        "**Stemming**"
      ]
    },
    {
      "cell_type": "code",
      "metadata": {
        "id": "D_BiPqTFlhDv"
      },
      "source": [
        "X = tf_idf(df_article['stemming_AllArticles_HeadingPlusContent'])\n",
        "y = df_article['category']"
      ],
      "execution_count": 31,
      "outputs": []
    },
    {
      "cell_type": "code",
      "metadata": {
        "colab": {
          "base_uri": "https://localhost:8080/"
        },
        "id": "aTu0XUsznAG0",
        "outputId": "81d35027-c107-429d-92d1-d5590471ca17"
      },
      "source": [
        "X.shape"
      ],
      "execution_count": 32,
      "outputs": [
        {
          "output_type": "execute_result",
          "data": {
            "text/plain": [
              "(1408, 5083)"
            ]
          },
          "metadata": {},
          "execution_count": 32
        }
      ]
    },
    {
      "cell_type": "code",
      "metadata": {
        "colab": {
          "base_uri": "https://localhost:8080/"
        },
        "id": "guU9i8TCnEQT",
        "outputId": "a4bf7d61-55e4-459e-d351-273699ed7d76"
      },
      "source": [
        "original_models = {  \n",
        "     \n",
        "    \"Neural Network\": MLPClassifier(solver='adam', activation='logistic', momentum=0.3, learning_rate_init=0.09),\n",
        "    \"Logistic Regression\": LogisticRegression(solver='newton-cg', penalty='l2', C=10, random_state=42, class_weight=\"balanced\"),\n",
        "    \"Naive Bayes\": MultinomialNB(),\n",
        "    \"Support Vector Machine\": SVC(kernel='linear', gamma='scale', C=1.0, random_state=42, class_weight=\"balanced\", probability=True,),\n",
        "    \"Random Forest\": RandomForestClassifier(),\n",
        "    \"K-Nearest Neighbors\": KNeighborsClassifier(weights='distance', metric='euclidean')\n",
        "    \n",
        "}\n",
        "\n",
        "for name, model in original_models.items():\n",
        "  model.fit(X, y)\n",
        "  print(name + ' trained.')"
      ],
      "execution_count": 33,
      "outputs": [
        {
          "output_type": "stream",
          "name": "stdout",
          "text": [
            "Neural Network trained.\n",
            "Logistic Regression trained.\n",
            "Naive Bayes trained.\n",
            "Support Vector Machine trained.\n",
            "Random Forest trained.\n",
            "K-Nearest Neighbors trained.\n"
          ]
        }
      ]
    },
    {
      "cell_type": "code",
      "metadata": {
        "colab": {
          "base_uri": "https://localhost:8080/"
        },
        "id": "ktEPGlPCnD_t",
        "outputId": "0e9952e5-7bc1-4d65-80dd-76e4089c634b"
      },
      "source": [
        "acc_scores = {}\n",
        "original_results = []\n",
        "for name, model in original_models.items():\n",
        "  acc_score = cross_val_score(model, X, y, cv=5, scoring=\"accuracy\")\n",
        "  original_results.append(acc_score.mean())\n",
        "\n",
        "  model = original_models[name]\n",
        "  print('------------------ ' + name + ' ------------------')\n",
        "  print(acc_score)\n",
        "  print(\"Mean cross-validation accuracy = %.3f\\n\" % acc_score.mean())\n",
        "  acc_scores[name] = acc_score.mean()"
      ],
      "execution_count": 34,
      "outputs": [
        {
          "output_type": "stream",
          "name": "stdout",
          "text": [
            "------------------ Neural Network ------------------\n",
            "[0.9822695  0.9964539  0.9787234  0.97864769 0.97153025]\n",
            "Mean cross-validation accuracy = 0.982\n",
            "\n",
            "------------------ Logistic Regression ------------------\n",
            "[0.9822695  0.9964539  0.9822695  0.98220641 0.97864769]\n",
            "Mean cross-validation accuracy = 0.984\n",
            "\n",
            "------------------ Naive Bayes ------------------\n",
            "[0.9858156  0.9929078  0.96453901 0.97153025 0.97153025]\n",
            "Mean cross-validation accuracy = 0.977\n",
            "\n",
            "------------------ Support Vector Machine ------------------\n",
            "[0.9858156  0.9893617  0.9787234  0.98220641 0.98576512]\n",
            "Mean cross-validation accuracy = 0.984\n",
            "\n",
            "------------------ Random Forest ------------------\n",
            "[0.9822695  0.9751773  0.95744681 0.95373665 0.96085409]\n",
            "Mean cross-validation accuracy = 0.966\n",
            "\n",
            "------------------ K-Nearest Neighbors ------------------\n",
            "[0.96808511 0.9751773  0.94680851 0.97153025 0.96085409]\n",
            "Mean cross-validation accuracy = 0.964\n",
            "\n"
          ]
        }
      ]
    },
    {
      "cell_type": "code",
      "metadata": {
        "id": "bol6yC0QnKKM"
      },
      "source": [
        "df_score['HeadingPlusContent_Stemming'] = original_results"
      ],
      "execution_count": 35,
      "outputs": []
    },
    {
      "cell_type": "markdown",
      "metadata": {
        "id": "4fbFQqt1m4RQ"
      },
      "source": [
        "**Lemmatisation**"
      ]
    },
    {
      "cell_type": "code",
      "metadata": {
        "id": "chu0Jb6RmHOZ"
      },
      "source": [
        "X = tf_idf(df_article['lemmatizer_AllArticles_HeadingPlusContent'])\n",
        "y = df_article['category']"
      ],
      "execution_count": 36,
      "outputs": []
    },
    {
      "cell_type": "code",
      "metadata": {
        "colab": {
          "base_uri": "https://localhost:8080/"
        },
        "id": "8fxQuVwtmHck",
        "outputId": "e6d20c69-fd1f-4765-cbff-058ae454d430"
      },
      "source": [
        "X.shape"
      ],
      "execution_count": 37,
      "outputs": [
        {
          "output_type": "execute_result",
          "data": {
            "text/plain": [
              "(1408, 6254)"
            ]
          },
          "metadata": {},
          "execution_count": 37
        }
      ]
    },
    {
      "cell_type": "code",
      "metadata": {
        "colab": {
          "base_uri": "https://localhost:8080/"
        },
        "id": "FfYcAsipqkYV",
        "outputId": "866940a4-e438-418d-e0c6-710d637cd121"
      },
      "source": [
        "original_models = {  \n",
        "     \n",
        "    \"Neural Network\": MLPClassifier(solver='adam', activation='logistic', momentum=0.3, learning_rate_init=0.09),\n",
        "    \"Logistic Regression\": LogisticRegression(solver='newton-cg', penalty='l2', C=10, random_state=42, class_weight=\"balanced\"),\n",
        "    \"Naive Bayes\": MultinomialNB(),\n",
        "    \"Support Vector Machine\": SVC(kernel='linear', gamma='scale', C=1.0, random_state=42, class_weight=\"balanced\", probability=True,),\n",
        "    \"Random Forest\": RandomForestClassifier(),\n",
        "    \"K-Nearest Neighbors\": KNeighborsClassifier(weights='distance', metric='euclidean')\n",
        "    \n",
        "}\n",
        "\n",
        "for name, model in original_models.items():\n",
        "  model.fit(X, y)\n",
        "  print(name + ' trained.')"
      ],
      "execution_count": 38,
      "outputs": [
        {
          "output_type": "stream",
          "name": "stdout",
          "text": [
            "Neural Network trained.\n",
            "Logistic Regression trained.\n",
            "Naive Bayes trained.\n",
            "Support Vector Machine trained.\n",
            "Random Forest trained.\n",
            "K-Nearest Neighbors trained.\n"
          ]
        }
      ]
    },
    {
      "cell_type": "code",
      "metadata": {
        "colab": {
          "base_uri": "https://localhost:8080/"
        },
        "id": "drZASnitqlPH",
        "outputId": "3117cd7f-f2f7-46db-add4-0f7e2e3aee4f"
      },
      "source": [
        "acc_scores = {}\n",
        "original_results = []\n",
        "for name, model in original_models.items():\n",
        "  acc_score = cross_val_score(model, X, y, cv=5, scoring=\"accuracy\")\n",
        "  original_results.append(acc_score.mean())\n",
        "\n",
        "  model = original_models[name]\n",
        "  print('------------------ ' + name + ' ------------------')\n",
        "  print(acc_score)\n",
        "  print(\"Mean cross-validation accuracy = %.3f\\n\" % acc_score.mean())\n",
        "  acc_scores[name] = acc_score.mean()"
      ],
      "execution_count": 39,
      "outputs": [
        {
          "output_type": "stream",
          "name": "stdout",
          "text": [
            "------------------ Neural Network ------------------\n",
            "[0.9787234  0.9929078  0.9822695  0.97864769 0.97508897]\n",
            "Mean cross-validation accuracy = 0.982\n",
            "\n",
            "------------------ Logistic Regression ------------------\n",
            "[0.9822695  0.9964539  0.9822695  0.98220641 0.97508897]\n",
            "Mean cross-validation accuracy = 0.984\n",
            "\n",
            "------------------ Naive Bayes ------------------\n",
            "[0.9893617  0.9929078  0.96453901 0.98220641 0.97153025]\n",
            "Mean cross-validation accuracy = 0.980\n",
            "\n",
            "------------------ Support Vector Machine ------------------\n",
            "[0.9858156  0.9893617  0.9787234  0.98220641 0.98220641]\n",
            "Mean cross-validation accuracy = 0.984\n",
            "\n",
            "------------------ Random Forest ------------------\n",
            "[0.9787234  0.9787234  0.95390071 0.96441281 0.96085409]\n",
            "Mean cross-validation accuracy = 0.967\n",
            "\n",
            "------------------ K-Nearest Neighbors ------------------\n",
            "[0.96099291 0.97163121 0.95390071 0.97153025 0.94661922]\n",
            "Mean cross-validation accuracy = 0.961\n",
            "\n"
          ]
        }
      ]
    },
    {
      "cell_type": "code",
      "metadata": {
        "id": "Jt3eY2Ezqnmt"
      },
      "source": [
        "df_score['HeadingPlusContent_Lemmatizer'] = original_results"
      ],
      "execution_count": 40,
      "outputs": []
    },
    {
      "cell_type": "markdown",
      "metadata": {
        "id": "coPzVWUSQ16v"
      },
      "source": [
        "####**Best models for text classification**"
      ]
    },
    {
      "cell_type": "markdown",
      "metadata": {
        "id": "HYlfuw3wWhsd"
      },
      "source": [
        "โมเดลที่นำมาใช้มีทั้งหมด 6 โมเดล และเหตุผลที่นำมาใช้ ดังนี้\n",
        "\n",
        "*   **Support Vector Machine** เป็น Algorithum ของ Machine Learning ที่ใช้ในการจัดหมวดหมู่ข้อความได้มีประสิทธิภาพ โดยอาศัยหลักการของการหาสัมประสิทธิ์ของสมการเพื่อสร้างเส้นแบ่งแยกกลุ่มข้อมูลที่ถูกป้อนเข้าสู่กระบวนการสอนให้ระบบเรียนรู้ โดยเน้นไปยังเส้นแบ่งแยกแยะกลุ่มข้อมูลได้ดีที่สุด\n",
        "*   **Logistic Regression** เป็นการวิเคราะห์ที่มีเป้าหมายเพื่อทำนายโอกาสที่จะเกิด\n",
        "เหตุการณ์ที่สนใจ โดยอาศัยสมการโลจิสติคที่สร้างขึ้นจากชุดตัวแปรทำนาย โดยโมเดลนี้มีการประมวลค่อนข้างเร็วและมึความแม่นคำ\n",
        "*   **Neural Network**\tเป็น Algorithum ที่มีเทคนิคจากการทำงานของสมองของมนุษย์ที่ใช้ในการตัดสินใจซึ่งเรียกว่าโครงข่ายประสาทเทียมซึ่ง Deep learing นั้นมีประโยชน์มากในการจำแนกประเภทของข้อความและทำให้มีความแม่นยำสูง \n",
        "\n",
        "*   **Naive Bayes**\tซึ่งเป็น Algorithum ที่มีการใช้มากที่สุดในการจัดประเภทและวิเคราะห์ข้อความ  โดยใช้ Multinomial(MNB) ซึ่งจะได้ประสิทธิภาพดีที่สุด โดยทฤษฎีบทของ Bayes จะคำนวณแบบมีเงื่อนไขของการเกิดขึ้นทั้งสองเหตุการณ์  โดยพิจารณาจากความน่าจะเป็น\n",
        "\n",
        "*   **Random Forest**\tเป็นหนึ่งในกลุ่มของโมเดลที่เรียกว่า Ensemble learning โดยถูกพัฒนาจาก Dicision Tree ซึ่งทำให้ประสิทธิภาพการทำงานสูงขึ้น\n",
        "*   **K-Nearest Neighbors** คือการจัดแบ่งคลาส โดยจะตัดสินใจว่า คลาสใดที่จะแทนเงื่อนไขหรือกรณีใหม่ๆ ได้บ้าง โดยการตรวจสอบจำนวนบางจำนวน ในขั้นตอนวิธีการเพื่อนบ้านใกล้ที่สุด ของกรณีหรือเงื่อนไขที่เหมือนกันหรือใกล้เคียงกันมากที่สุด โดยจะหาผลรวม (Count Up) ของจำนวนเงื่อนไข หรือกรณีต่างๆ สำหรับแต่ละคลาส และกำหนดเงื่อนไขใหม่ๆ ให้คลาสที่เหมือนกันกับคลาสที่ใกล้เคียงกันมากที่สุด"
      ]
    },
    {
      "cell_type": "markdown",
      "metadata": {
        "id": "DcTbuGo7b3BS"
      },
      "source": [
        "######**OnlyContent with Stemming**"
      ]
    },
    {
      "cell_type": "markdown",
      "metadata": {
        "id": "cwRcHX_rH1FN"
      },
      "source": [
        "ชุดข้อมูลที่เก็บเฉพาะข้อความในส่วน body และเลือกการใช้การตัดคำแบบ Stemming นั้น ค่า Accuracy โมเดล Support Vector Machine มีค่ามากที่สุด"
      ]
    },
    {
      "cell_type": "code",
      "metadata": {
        "colab": {
          "base_uri": "https://localhost:8080/",
          "height": 235
        },
        "id": "JaA-nzEuUvrH",
        "outputId": "294d9687-896a-495d-bfda-b2468ace7eea"
      },
      "source": [
        "df_score[['Model', 'OnlyContent_Stemming']].sort_values(by='OnlyContent_Stemming', ascending=False)"
      ],
      "execution_count": 70,
      "outputs": [
        {
          "output_type": "execute_result",
          "data": {
            "text/html": [
              "<div>\n",
              "<style scoped>\n",
              "    .dataframe tbody tr th:only-of-type {\n",
              "        vertical-align: middle;\n",
              "    }\n",
              "\n",
              "    .dataframe tbody tr th {\n",
              "        vertical-align: top;\n",
              "    }\n",
              "\n",
              "    .dataframe thead th {\n",
              "        text-align: right;\n",
              "    }\n",
              "</style>\n",
              "<table border=\"1\" class=\"dataframe\">\n",
              "  <thead>\n",
              "    <tr style=\"text-align: right;\">\n",
              "      <th></th>\n",
              "      <th>Model</th>\n",
              "      <th>OnlyContent_Stemming</th>\n",
              "    </tr>\n",
              "  </thead>\n",
              "  <tbody>\n",
              "    <tr>\n",
              "      <th>3</th>\n",
              "      <td>Support Vector Machine</td>\n",
              "      <td>0.985086</td>\n",
              "    </tr>\n",
              "    <tr>\n",
              "      <th>0</th>\n",
              "      <td>Neural Network</td>\n",
              "      <td>0.984372</td>\n",
              "    </tr>\n",
              "    <tr>\n",
              "      <th>1</th>\n",
              "      <td>Logistic Regression</td>\n",
              "      <td>0.983658</td>\n",
              "    </tr>\n",
              "    <tr>\n",
              "      <th>2</th>\n",
              "      <td>Naive Bayes</td>\n",
              "      <td>0.976550</td>\n",
              "    </tr>\n",
              "    <tr>\n",
              "      <th>4</th>\n",
              "      <td>Random Forest</td>\n",
              "      <td>0.968025</td>\n",
              "    </tr>\n",
              "    <tr>\n",
              "      <th>5</th>\n",
              "      <td>K-Nearest Neighbors</td>\n",
              "      <td>0.966619</td>\n",
              "    </tr>\n",
              "  </tbody>\n",
              "</table>\n",
              "</div>"
            ],
            "text/plain": [
              "                    Model  OnlyContent_Stemming\n",
              "3  Support Vector Machine              0.985086\n",
              "0          Neural Network              0.984372\n",
              "1     Logistic Regression              0.983658\n",
              "2             Naive Bayes              0.976550\n",
              "4           Random Forest              0.968025\n",
              "5     K-Nearest Neighbors              0.966619"
            ]
          },
          "metadata": {},
          "execution_count": 70
        }
      ]
    },
    {
      "cell_type": "code",
      "metadata": {
        "id": "N_d1aI2IrXFs",
        "colab": {
          "base_uri": "https://localhost:8080/",
          "height": 477
        },
        "outputId": "c78cafa5-893f-4229-f331-9fc0e45805e8"
      },
      "source": [
        "score_sort = df_score.sort_values(by='OnlyContent_Stemming', ascending=False)\n",
        "\n",
        "plt.figure(figsize= (15,7))\n",
        "p = sns.barplot(x = score_sort['OnlyContent_Stemming'],y = score_sort['Model'],palette='pastel')\n",
        "plt.xlabel(\"Accuracy\")\n",
        "plt.title(\"OnlyContent with Stemming\", fontsize=16, fontweight=\"bold\")"
      ],
      "execution_count": 71,
      "outputs": [
        {
          "output_type": "execute_result",
          "data": {
            "text/plain": [
              "Text(0.5, 1.0, 'OnlyContent with Stemming')"
            ]
          },
          "metadata": {},
          "execution_count": 71
        },
        {
          "output_type": "display_data",
          "data": {
            "image/png": "[encoded data removed]",
            "text/plain": [
              "<Figure size 1080x504 with 1 Axes>"
            ]
          },
          "metadata": {
            "needs_background": "light"
          }
        }
      ]
    },
    {
      "cell_type": "markdown",
      "metadata": {
        "id": "3HQ1b6O3b5Wn"
      },
      "source": [
        "######**OnlyContent with Lemmatisation**"
      ]
    },
    {
      "cell_type": "markdown",
      "metadata": {
        "id": "BLs4T853IWHd"
      },
      "source": [
        "ชุดข้อมูลที่เก็บเฉพาะข้อความในส่วน body และเลือกการใช้การตัดคำแบบ Lemmatisation นั้น ค่า Accuracy โมเดล Support Vector Machine มีค่ามากที่สุด"
      ]
    },
    {
      "cell_type": "code",
      "metadata": {
        "colab": {
          "base_uri": "https://localhost:8080/",
          "height": 235
        },
        "id": "u6NZC__XU_OD",
        "outputId": "42338ec0-a265-47ed-f149-8877b1910722"
      },
      "source": [
        "df_score[['Model', 'OnlyContent_Lemmatizer']].sort_values(by='OnlyContent_Lemmatizer', ascending=False)"
      ],
      "execution_count": 72,
      "outputs": [
        {
          "output_type": "execute_result",
          "data": {
            "text/html": [
              "<div>\n",
              "<style scoped>\n",
              "    .dataframe tbody tr th:only-of-type {\n",
              "        vertical-align: middle;\n",
              "    }\n",
              "\n",
              "    .dataframe tbody tr th {\n",
              "        vertical-align: top;\n",
              "    }\n",
              "\n",
              "    .dataframe thead th {\n",
              "        text-align: right;\n",
              "    }\n",
              "</style>\n",
              "<table border=\"1\" class=\"dataframe\">\n",
              "  <thead>\n",
              "    <tr style=\"text-align: right;\">\n",
              "      <th></th>\n",
              "      <th>Model</th>\n",
              "      <th>OnlyContent_Lemmatizer</th>\n",
              "    </tr>\n",
              "  </thead>\n",
              "  <tbody>\n",
              "    <tr>\n",
              "      <th>3</th>\n",
              "      <td>Support Vector Machine</td>\n",
              "      <td>0.984372</td>\n",
              "    </tr>\n",
              "    <tr>\n",
              "      <th>1</th>\n",
              "      <td>Logistic Regression</td>\n",
              "      <td>0.982946</td>\n",
              "    </tr>\n",
              "    <tr>\n",
              "      <th>0</th>\n",
              "      <td>Neural Network</td>\n",
              "      <td>0.982239</td>\n",
              "    </tr>\n",
              "    <tr>\n",
              "      <th>2</th>\n",
              "      <td>Naive Bayes</td>\n",
              "      <td>0.975841</td>\n",
              "    </tr>\n",
              "    <tr>\n",
              "      <th>4</th>\n",
              "      <td>Random Forest</td>\n",
              "      <td>0.969448</td>\n",
              "    </tr>\n",
              "    <tr>\n",
              "      <th>5</th>\n",
              "      <td>K-Nearest Neighbors</td>\n",
              "      <td>0.960937</td>\n",
              "    </tr>\n",
              "  </tbody>\n",
              "</table>\n",
              "</div>"
            ],
            "text/plain": [
              "                    Model  OnlyContent_Lemmatizer\n",
              "3  Support Vector Machine                0.984372\n",
              "1     Logistic Regression                0.982946\n",
              "0          Neural Network                0.982239\n",
              "2             Naive Bayes                0.975841\n",
              "4           Random Forest                0.969448\n",
              "5     K-Nearest Neighbors                0.960937"
            ]
          },
          "metadata": {},
          "execution_count": 72
        }
      ]
    },
    {
      "cell_type": "code",
      "metadata": {
        "colab": {
          "base_uri": "https://localhost:8080/",
          "height": 477
        },
        "id": "AidWuFyh_VY_",
        "outputId": "9a439d56-5a00-425c-cf30-8b5579ed291b"
      },
      "source": [
        "score_sort = df_score.sort_values(by='OnlyContent_Lemmatizer', ascending=False)\n",
        "\n",
        "plt.figure(figsize= (15,7))\n",
        "sns.barplot(x = score_sort['OnlyContent_Lemmatizer'],y = score_sort['Model'],palette='pastel')\n",
        "plt.xlabel(\"Accuracy\")\n",
        "plt.title(\"OnlyContent with Lemmatisation\", fontsize=16, fontweight=\"bold\")"
      ],
      "execution_count": 73,
      "outputs": [
        {
          "output_type": "execute_result",
          "data": {
            "text/plain": [
              "Text(0.5, 1.0, 'OnlyContent with Lemmatisation')"
            ]
          },
          "metadata": {},
          "execution_count": 73
        },
        {
          "output_type": "display_data",
          "data": {
            "image/png": "[encoded data removed]",
            "text/plain": [
              "<Figure size 1080x504 with 1 Axes>"
            ]
          },
          "metadata": {
            "needs_background": "light"
          }
        }
      ]
    },
    {
      "cell_type": "markdown",
      "metadata": {
        "id": "YQUkJGjob7vr"
      },
      "source": [
        "######**HeadingPlusContent with Stemming**"
      ]
    },
    {
      "cell_type": "markdown",
      "metadata": {
        "id": "_oApySbQIdS9"
      },
      "source": [
        "ชุดข้อมูลที่เก็บข้อความในส่วน title กับ body  และเลือกการใช้การตัดคำแบบ Stemming นั้น ค่า Accuracy โมเดล Support Vector Machine มีค่ามากที่สุด"
      ]
    },
    {
      "cell_type": "code",
      "metadata": {
        "colab": {
          "base_uri": "https://localhost:8080/",
          "height": 235
        },
        "id": "wZ4NbmIIVEMJ",
        "outputId": "9ecc63f7-5379-4479-d1d5-93303b769fb8"
      },
      "source": [
        "df_score[['Model', 'HeadingPlusContent_Stemming']].sort_values(by='HeadingPlusContent_Stemming', ascending=False)"
      ],
      "execution_count": 74,
      "outputs": [
        {
          "output_type": "execute_result",
          "data": {
            "text/html": [
              "<div>\n",
              "<style scoped>\n",
              "    .dataframe tbody tr th:only-of-type {\n",
              "        vertical-align: middle;\n",
              "    }\n",
              "\n",
              "    .dataframe tbody tr th {\n",
              "        vertical-align: top;\n",
              "    }\n",
              "\n",
              "    .dataframe thead th {\n",
              "        text-align: right;\n",
              "    }\n",
              "</style>\n",
              "<table border=\"1\" class=\"dataframe\">\n",
              "  <thead>\n",
              "    <tr style=\"text-align: right;\">\n",
              "      <th></th>\n",
              "      <th>Model</th>\n",
              "      <th>HeadingPlusContent_Stemming</th>\n",
              "    </tr>\n",
              "  </thead>\n",
              "  <tbody>\n",
              "    <tr>\n",
              "      <th>3</th>\n",
              "      <td>Support Vector Machine</td>\n",
              "      <td>0.984374</td>\n",
              "    </tr>\n",
              "    <tr>\n",
              "      <th>1</th>\n",
              "      <td>Logistic Regression</td>\n",
              "      <td>0.984369</td>\n",
              "    </tr>\n",
              "    <tr>\n",
              "      <th>0</th>\n",
              "      <td>Neural Network</td>\n",
              "      <td>0.981525</td>\n",
              "    </tr>\n",
              "    <tr>\n",
              "      <th>2</th>\n",
              "      <td>Naive Bayes</td>\n",
              "      <td>0.977265</td>\n",
              "    </tr>\n",
              "    <tr>\n",
              "      <th>4</th>\n",
              "      <td>Random Forest</td>\n",
              "      <td>0.965897</td>\n",
              "    </tr>\n",
              "    <tr>\n",
              "      <th>5</th>\n",
              "      <td>K-Nearest Neighbors</td>\n",
              "      <td>0.964491</td>\n",
              "    </tr>\n",
              "  </tbody>\n",
              "</table>\n",
              "</div>"
            ],
            "text/plain": [
              "                    Model  HeadingPlusContent_Stemming\n",
              "3  Support Vector Machine                     0.984374\n",
              "1     Logistic Regression                     0.984369\n",
              "0          Neural Network                     0.981525\n",
              "2             Naive Bayes                     0.977265\n",
              "4           Random Forest                     0.965897\n",
              "5     K-Nearest Neighbors                     0.964491"
            ]
          },
          "metadata": {},
          "execution_count": 74
        }
      ]
    },
    {
      "cell_type": "code",
      "metadata": {
        "colab": {
          "base_uri": "https://localhost:8080/",
          "height": 478
        },
        "id": "ZQVtR819BkM6",
        "outputId": "cb9718d1-2624-4465-d3ad-191deb05650e"
      },
      "source": [
        "score_sort = df_score.sort_values(by='HeadingPlusContent_Stemming', ascending=False)\n",
        "\n",
        "plt.figure(figsize= (15,7))\n",
        "sns.barplot(x = score_sort['HeadingPlusContent_Stemming'],y = score_sort['Model'],palette='pastel')\n",
        "plt.title(\"HeadingPlusContent with Stemming\", fontsize=16, fontweight=\"bold\")"
      ],
      "execution_count": 75,
      "outputs": [
        {
          "output_type": "execute_result",
          "data": {
            "text/plain": [
              "Text(0.5, 1.0, 'HeadingPlusContent with Stemming')"
            ]
          },
          "metadata": {},
          "execution_count": 75
        },
        {
          "output_type": "display_data",
          "data": {
            "image/png": "[encoded data removed]",
            "text/plain": [
              "<Figure size 1080x504 with 1 Axes>"
            ]
          },
          "metadata": {
            "needs_background": "light"
          }
        }
      ]
    },
    {
      "cell_type": "markdown",
      "metadata": {
        "id": "FKAO08c-b9_D"
      },
      "source": [
        "######**HeadingPlusContent with Lemmatisation**"
      ]
    },
    {
      "cell_type": "markdown",
      "metadata": {
        "id": "ccM3K9CaIlub"
      },
      "source": [
        "ชุดข้อมูลที่เก็บข้อความในส่วน title กับ body  และเลือกการใช้การตัดคำแบบ Lemmatisation นั้น ค่า Accuracy โมเดล Support Vector Machine มีค่ามากที่สุด"
      ]
    },
    {
      "cell_type": "code",
      "metadata": {
        "colab": {
          "base_uri": "https://localhost:8080/",
          "height": 235
        },
        "id": "6z3dlzb-VJTH",
        "outputId": "4c1133a3-f380-43dd-d519-ff5353d616c9"
      },
      "source": [
        "df_score[['Model', 'HeadingPlusContent_Lemmatizer']].sort_values(by='HeadingPlusContent_Lemmatizer', ascending=False)"
      ],
      "execution_count": 76,
      "outputs": [
        {
          "output_type": "execute_result",
          "data": {
            "text/html": [
              "<div>\n",
              "<style scoped>\n",
              "    .dataframe tbody tr th:only-of-type {\n",
              "        vertical-align: middle;\n",
              "    }\n",
              "\n",
              "    .dataframe tbody tr th {\n",
              "        vertical-align: top;\n",
              "    }\n",
              "\n",
              "    .dataframe thead th {\n",
              "        text-align: right;\n",
              "    }\n",
              "</style>\n",
              "<table border=\"1\" class=\"dataframe\">\n",
              "  <thead>\n",
              "    <tr style=\"text-align: right;\">\n",
              "      <th></th>\n",
              "      <th>Model</th>\n",
              "      <th>HeadingPlusContent_Lemmatizer</th>\n",
              "    </tr>\n",
              "  </thead>\n",
              "  <tbody>\n",
              "    <tr>\n",
              "      <th>3</th>\n",
              "      <td>Support Vector Machine</td>\n",
              "      <td>0.983663</td>\n",
              "    </tr>\n",
              "    <tr>\n",
              "      <th>1</th>\n",
              "      <td>Logistic Regression</td>\n",
              "      <td>0.983658</td>\n",
              "    </tr>\n",
              "    <tr>\n",
              "      <th>0</th>\n",
              "      <td>Neural Network</td>\n",
              "      <td>0.981527</td>\n",
              "    </tr>\n",
              "    <tr>\n",
              "      <th>2</th>\n",
              "      <td>Naive Bayes</td>\n",
              "      <td>0.980109</td>\n",
              "    </tr>\n",
              "    <tr>\n",
              "      <th>4</th>\n",
              "      <td>Random Forest</td>\n",
              "      <td>0.967323</td>\n",
              "    </tr>\n",
              "    <tr>\n",
              "      <th>5</th>\n",
              "      <td>K-Nearest Neighbors</td>\n",
              "      <td>0.960935</td>\n",
              "    </tr>\n",
              "  </tbody>\n",
              "</table>\n",
              "</div>"
            ],
            "text/plain": [
              "                    Model  HeadingPlusContent_Lemmatizer\n",
              "3  Support Vector Machine                       0.983663\n",
              "1     Logistic Regression                       0.983658\n",
              "0          Neural Network                       0.981527\n",
              "2             Naive Bayes                       0.980109\n",
              "4           Random Forest                       0.967323\n",
              "5     K-Nearest Neighbors                       0.960935"
            ]
          },
          "metadata": {},
          "execution_count": 76
        }
      ]
    },
    {
      "cell_type": "code",
      "metadata": {
        "colab": {
          "base_uri": "https://localhost:8080/",
          "height": 477
        },
        "id": "Tv0gM6u2Bki2",
        "outputId": "fc3c5839-9215-4176-8286-fd15f07cbee7"
      },
      "source": [
        "score_sort = df_score.sort_values(by='HeadingPlusContent_Lemmatizer', ascending=False)\n",
        "\n",
        "plt.figure(figsize= (15,7))\n",
        "sns.barplot(x = score_sort['HeadingPlusContent_Lemmatizer'],y = score_sort['Model'],palette='pastel')\n",
        "plt.xlabel(\"Accuracy\")\n",
        "plt.title(\"HeadingPlusContent with Lemmatisation\", fontsize=16, fontweight=\"bold\")"
      ],
      "execution_count": 77,
      "outputs": [
        {
          "output_type": "execute_result",
          "data": {
            "text/plain": [
              "Text(0.5, 1.0, 'HeadingPlusContent with Lemmatisation')"
            ]
          },
          "metadata": {},
          "execution_count": 77
        },
        {
          "output_type": "display_data",
          "data": {
            "image/png": "[encoded data removed]",
            "text/plain": [
              "<Figure size 1080x504 with 1 Axes>"
            ]
          },
          "metadata": {
            "needs_background": "light"
          }
        }
      ]
    },
    {
      "cell_type": "markdown",
      "metadata": {
        "id": "WgA1J5Uuyj2n"
      },
      "source": [
        "######**Stemming vs Lemmatisation with OnlyPlusContent**"
      ]
    },
    {
      "cell_type": "markdown",
      "metadata": {
        "id": "y5Gt3bnnI4HZ"
      },
      "source": [
        "การเปรียบระหว่างการตัดคำแบบ Stemming กับ Lemmatisation \n",
        "\n",
        "ค่า Accuracy  โดยรวมในแบบ Stemming สูงกว่าแต่ก็มีบางโมเดลที่ Lemmatisation สูงกว่า"
      ]
    },
    {
      "cell_type": "code",
      "metadata": {
        "colab": {
          "base_uri": "https://localhost:8080/",
          "height": 421
        },
        "id": "BcTz-hFWVObD",
        "outputId": "ddd691a5-d2a5-46c8-f5d1-f5217c0a35a4"
      },
      "source": [
        "df_score_select = df_score[['Model', 'OnlyContent_Stemming', 'OnlyContent_Lemmatizer']]\n",
        "df_score_reshape = pd.melt(df_score_select, id_vars=\"Model\", var_name=\"type\", value_name=\"Accuracy\").sort_values(by='Accuracy', ascending=False)\n",
        "\n",
        "df_score_reshape"
      ],
      "execution_count": 78,
      "outputs": [
        {
          "output_type": "execute_result",
          "data": {
            "text/html": [
              "<div>\n",
              "<style scoped>\n",
              "    .dataframe tbody tr th:only-of-type {\n",
              "        vertical-align: middle;\n",
              "    }\n",
              "\n",
              "    .dataframe tbody tr th {\n",
              "        vertical-align: top;\n",
              "    }\n",
              "\n",
              "    .dataframe thead th {\n",
              "        text-align: right;\n",
              "    }\n",
              "</style>\n",
              "<table border=\"1\" class=\"dataframe\">\n",
              "  <thead>\n",
              "    <tr style=\"text-align: right;\">\n",
              "      <th></th>\n",
              "      <th>Model</th>\n",
              "      <th>type</th>\n",
              "      <th>Accuracy</th>\n",
              "    </tr>\n",
              "  </thead>\n",
              "  <tbody>\n",
              "    <tr>\n",
              "      <th>3</th>\n",
              "      <td>Support Vector Machine</td>\n",
              "      <td>OnlyContent_Stemming</td>\n",
              "      <td>0.985086</td>\n",
              "    </tr>\n",
              "    <tr>\n",
              "      <th>0</th>\n",
              "      <td>Neural Network</td>\n",
              "      <td>OnlyContent_Stemming</td>\n",
              "      <td>0.984372</td>\n",
              "    </tr>\n",
              "    <tr>\n",
              "      <th>9</th>\n",
              "      <td>Support Vector Machine</td>\n",
              "      <td>OnlyContent_Lemmatizer</td>\n",
              "      <td>0.984372</td>\n",
              "    </tr>\n",
              "    <tr>\n",
              "      <th>1</th>\n",
              "      <td>Logistic Regression</td>\n",
              "      <td>OnlyContent_Stemming</td>\n",
              "      <td>0.983658</td>\n",
              "    </tr>\n",
              "    <tr>\n",
              "      <th>7</th>\n",
              "      <td>Logistic Regression</td>\n",
              "      <td>OnlyContent_Lemmatizer</td>\n",
              "      <td>0.982946</td>\n",
              "    </tr>\n",
              "    <tr>\n",
              "      <th>6</th>\n",
              "      <td>Neural Network</td>\n",
              "      <td>OnlyContent_Lemmatizer</td>\n",
              "      <td>0.982239</td>\n",
              "    </tr>\n",
              "    <tr>\n",
              "      <th>2</th>\n",
              "      <td>Naive Bayes</td>\n",
              "      <td>OnlyContent_Stemming</td>\n",
              "      <td>0.976550</td>\n",
              "    </tr>\n",
              "    <tr>\n",
              "      <th>8</th>\n",
              "      <td>Naive Bayes</td>\n",
              "      <td>OnlyContent_Lemmatizer</td>\n",
              "      <td>0.975841</td>\n",
              "    </tr>\n",
              "    <tr>\n",
              "      <th>10</th>\n",
              "      <td>Random Forest</td>\n",
              "      <td>OnlyContent_Lemmatizer</td>\n",
              "      <td>0.969448</td>\n",
              "    </tr>\n",
              "    <tr>\n",
              "      <th>4</th>\n",
              "      <td>Random Forest</td>\n",
              "      <td>OnlyContent_Stemming</td>\n",
              "      <td>0.968025</td>\n",
              "    </tr>\n",
              "    <tr>\n",
              "      <th>5</th>\n",
              "      <td>K-Nearest Neighbors</td>\n",
              "      <td>OnlyContent_Stemming</td>\n",
              "      <td>0.966619</td>\n",
              "    </tr>\n",
              "    <tr>\n",
              "      <th>11</th>\n",
              "      <td>K-Nearest Neighbors</td>\n",
              "      <td>OnlyContent_Lemmatizer</td>\n",
              "      <td>0.960937</td>\n",
              "    </tr>\n",
              "  </tbody>\n",
              "</table>\n",
              "</div>"
            ],
            "text/plain": [
              "                     Model                    type  Accuracy\n",
              "3   Support Vector Machine    OnlyContent_Stemming  0.985086\n",
              "0           Neural Network    OnlyContent_Stemming  0.984372\n",
              "9   Support Vector Machine  OnlyContent_Lemmatizer  0.984372\n",
              "1      Logistic Regression    OnlyContent_Stemming  0.983658\n",
              "7      Logistic Regression  OnlyContent_Lemmatizer  0.982946\n",
              "6           Neural Network  OnlyContent_Lemmatizer  0.982239\n",
              "2              Naive Bayes    OnlyContent_Stemming  0.976550\n",
              "8              Naive Bayes  OnlyContent_Lemmatizer  0.975841\n",
              "10           Random Forest  OnlyContent_Lemmatizer  0.969448\n",
              "4            Random Forest    OnlyContent_Stemming  0.968025\n",
              "5      K-Nearest Neighbors    OnlyContent_Stemming  0.966619\n",
              "11     K-Nearest Neighbors  OnlyContent_Lemmatizer  0.960937"
            ]
          },
          "metadata": {},
          "execution_count": 78
        }
      ]
    },
    {
      "cell_type": "code",
      "metadata": {
        "colab": {
          "base_uri": "https://localhost:8080/",
          "height": 623
        },
        "id": "Skemi5NMxu9r",
        "outputId": "fbc3433a-51a1-48d8-d0b5-71308527c468"
      },
      "source": [
        "plt.figure(figsize= (20,10))\n",
        "sns.barplot(data = df_score_reshape,x = 'Accuracy',y = 'Model',hue = 'type')"
      ],
      "execution_count": 79,
      "outputs": [
        {
          "output_type": "execute_result",
          "data": {
            "text/plain": [
              "<matplotlib.axes._subplots.AxesSubplot at 0x7f8bfdeae4d0>"
            ]
          },
          "metadata": {},
          "execution_count": 79
        },
        {
          "output_type": "display_data",
          "data": {
            "image/png": "[encoded data removed]",
            "text/plain": [
              "<Figure size 1440x720 with 1 Axes>"
            ]
          },
          "metadata": {
            "needs_background": "light"
          }
        }
      ]
    },
    {
      "cell_type": "markdown",
      "metadata": {
        "id": "fUPjjHOizTAo"
      },
      "source": [
        "######**Stemming vs Lemmatizer with HeadingPlusContent**"
      ]
    },
    {
      "cell_type": "markdown",
      "metadata": {
        "id": "bQ_FoqRCJ_1h"
      },
      "source": [
        "การเปรียบระหว่างการตัดคำแบบ Stemming กับ Lemmatisation \n",
        "\n",
        "ค่า Accuracy  โดยรวมในแบบ Stemming สูงกว่าแต่ก็มีบางโมเดลที่ Lemmatisation สูงกว่า"
      ]
    },
    {
      "cell_type": "code",
      "metadata": {
        "colab": {
          "base_uri": "https://localhost:8080/",
          "height": 421
        },
        "id": "177SUBwKVW_W",
        "outputId": "a9d28dec-1edc-40ba-c352-1379e62d6441"
      },
      "source": [
        "df_score_select = df_score[['Model', 'HeadingPlusContent_Stemming', 'HeadingPlusContent_Lemmatizer']]\n",
        "df_score_reshape = pd.melt(df_score_select, id_vars=\"Model\", var_name=\"type\", value_name=\"Accuracy\").sort_values(by='Accuracy', ascending=False)\n",
        "\n",
        "df_score_reshape"
      ],
      "execution_count": 80,
      "outputs": [
        {
          "output_type": "execute_result",
          "data": {
            "text/html": [
              "<div>\n",
              "<style scoped>\n",
              "    .dataframe tbody tr th:only-of-type {\n",
              "        vertical-align: middle;\n",
              "    }\n",
              "\n",
              "    .dataframe tbody tr th {\n",
              "        vertical-align: top;\n",
              "    }\n",
              "\n",
              "    .dataframe thead th {\n",
              "        text-align: right;\n",
              "    }\n",
              "</style>\n",
              "<table border=\"1\" class=\"dataframe\">\n",
              "  <thead>\n",
              "    <tr style=\"text-align: right;\">\n",
              "      <th></th>\n",
              "      <th>Model</th>\n",
              "      <th>type</th>\n",
              "      <th>Accuracy</th>\n",
              "    </tr>\n",
              "  </thead>\n",
              "  <tbody>\n",
              "    <tr>\n",
              "      <th>3</th>\n",
              "      <td>Support Vector Machine</td>\n",
              "      <td>HeadingPlusContent_Stemming</td>\n",
              "      <td>0.984374</td>\n",
              "    </tr>\n",
              "    <tr>\n",
              "      <th>1</th>\n",
              "      <td>Logistic Regression</td>\n",
              "      <td>HeadingPlusContent_Stemming</td>\n",
              "      <td>0.984369</td>\n",
              "    </tr>\n",
              "    <tr>\n",
              "      <th>9</th>\n",
              "      <td>Support Vector Machine</td>\n",
              "      <td>HeadingPlusContent_Lemmatizer</td>\n",
              "      <td>0.983663</td>\n",
              "    </tr>\n",
              "    <tr>\n",
              "      <th>7</th>\n",
              "      <td>Logistic Regression</td>\n",
              "      <td>HeadingPlusContent_Lemmatizer</td>\n",
              "      <td>0.983658</td>\n",
              "    </tr>\n",
              "    <tr>\n",
              "      <th>6</th>\n",
              "      <td>Neural Network</td>\n",
              "      <td>HeadingPlusContent_Lemmatizer</td>\n",
              "      <td>0.981527</td>\n",
              "    </tr>\n",
              "    <tr>\n",
              "      <th>0</th>\n",
              "      <td>Neural Network</td>\n",
              "      <td>HeadingPlusContent_Stemming</td>\n",
              "      <td>0.981525</td>\n",
              "    </tr>\n",
              "    <tr>\n",
              "      <th>8</th>\n",
              "      <td>Naive Bayes</td>\n",
              "      <td>HeadingPlusContent_Lemmatizer</td>\n",
              "      <td>0.980109</td>\n",
              "    </tr>\n",
              "    <tr>\n",
              "      <th>2</th>\n",
              "      <td>Naive Bayes</td>\n",
              "      <td>HeadingPlusContent_Stemming</td>\n",
              "      <td>0.977265</td>\n",
              "    </tr>\n",
              "    <tr>\n",
              "      <th>10</th>\n",
              "      <td>Random Forest</td>\n",
              "      <td>HeadingPlusContent_Lemmatizer</td>\n",
              "      <td>0.967323</td>\n",
              "    </tr>\n",
              "    <tr>\n",
              "      <th>4</th>\n",
              "      <td>Random Forest</td>\n",
              "      <td>HeadingPlusContent_Stemming</td>\n",
              "      <td>0.965897</td>\n",
              "    </tr>\n",
              "    <tr>\n",
              "      <th>5</th>\n",
              "      <td>K-Nearest Neighbors</td>\n",
              "      <td>HeadingPlusContent_Stemming</td>\n",
              "      <td>0.964491</td>\n",
              "    </tr>\n",
              "    <tr>\n",
              "      <th>11</th>\n",
              "      <td>K-Nearest Neighbors</td>\n",
              "      <td>HeadingPlusContent_Lemmatizer</td>\n",
              "      <td>0.960935</td>\n",
              "    </tr>\n",
              "  </tbody>\n",
              "</table>\n",
              "</div>"
            ],
            "text/plain": [
              "                     Model                           type  Accuracy\n",
              "3   Support Vector Machine    HeadingPlusContent_Stemming  0.984374\n",
              "1      Logistic Regression    HeadingPlusContent_Stemming  0.984369\n",
              "9   Support Vector Machine  HeadingPlusContent_Lemmatizer  0.983663\n",
              "7      Logistic Regression  HeadingPlusContent_Lemmatizer  0.983658\n",
              "6           Neural Network  HeadingPlusContent_Lemmatizer  0.981527\n",
              "0           Neural Network    HeadingPlusContent_Stemming  0.981525\n",
              "8              Naive Bayes  HeadingPlusContent_Lemmatizer  0.980109\n",
              "2              Naive Bayes    HeadingPlusContent_Stemming  0.977265\n",
              "10           Random Forest  HeadingPlusContent_Lemmatizer  0.967323\n",
              "4            Random Forest    HeadingPlusContent_Stemming  0.965897\n",
              "5      K-Nearest Neighbors    HeadingPlusContent_Stemming  0.964491\n",
              "11     K-Nearest Neighbors  HeadingPlusContent_Lemmatizer  0.960935"
            ]
          },
          "metadata": {},
          "execution_count": 80
        }
      ]
    },
    {
      "cell_type": "code",
      "metadata": {
        "colab": {
          "base_uri": "https://localhost:8080/",
          "height": 623
        },
        "id": "EbjcNEfHyVRq",
        "outputId": "ef4a170d-ef24-47ab-df5b-40213c6796d2"
      },
      "source": [
        "plt.figure(figsize= (20,10))\n",
        "sns.barplot(data = df_score_reshape,x = 'Accuracy',y = 'Model',hue = 'type')"
      ],
      "execution_count": 81,
      "outputs": [
        {
          "output_type": "execute_result",
          "data": {
            "text/plain": [
              "<matplotlib.axes._subplots.AxesSubplot at 0x7f8bfdf96b90>"
            ]
          },
          "metadata": {},
          "execution_count": 81
        },
        {
          "output_type": "display_data",
          "data": {
            "image/png": "[encoded data removed]",
            "text/plain": [
              "<Figure size 1440x720 with 1 Axes>"
            ]
          },
          "metadata": {
            "needs_background": "light"
          }
        }
      ]
    },
    {
      "cell_type": "markdown",
      "metadata": {
        "id": "SjoVLBF1zYIE"
      },
      "source": [
        "####**Summary**"
      ]
    },
    {
      "cell_type": "markdown",
      "metadata": {
        "id": "BhYntgx6KNYI"
      },
      "source": [
        "Support Vector Machine เป็นโมเดลที่มีค่า Accuracy สูงที่สุด\n",
        "\n",
        "การตัดคำแบบ Stemming มีค่า Accuracy สูงกว่าแบบ Lemmatisation\n",
        "\n",
        "การใช้ข้อมูลเฉพาะส่วนของเนื้อหามีค่า Accuracy สูงกว่าแบบชื่อเรื่องกับเนื้อหา"
      ]
    },
    {
      "cell_type": "code",
      "metadata": {
        "colab": {
          "base_uri": "https://localhost:8080/",
          "height": 793
        },
        "id": "mSNpD_FKUlPV",
        "outputId": "cbba9632-0232-45a3-c5fd-83d11894ac42"
      },
      "source": [
        "df_score_reshape = pd.melt(df_score, id_vars=\"Model\", var_name=\"type\", value_name=\"Accuracy\").sort_values(by='Accuracy', ascending=False)\n",
        "df_score_reshape"
      ],
      "execution_count": 82,
      "outputs": [
        {
          "output_type": "execute_result",
          "data": {
            "text/html": [
              "<div>\n",
              "<style scoped>\n",
              "    .dataframe tbody tr th:only-of-type {\n",
              "        vertical-align: middle;\n",
              "    }\n",
              "\n",
              "    .dataframe tbody tr th {\n",
              "        vertical-align: top;\n",
              "    }\n",
              "\n",
              "    .dataframe thead th {\n",
              "        text-align: right;\n",
              "    }\n",
              "</style>\n",
              "<table border=\"1\" class=\"dataframe\">\n",
              "  <thead>\n",
              "    <tr style=\"text-align: right;\">\n",
              "      <th></th>\n",
              "      <th>Model</th>\n",
              "      <th>type</th>\n",
              "      <th>Accuracy</th>\n",
              "    </tr>\n",
              "  </thead>\n",
              "  <tbody>\n",
              "    <tr>\n",
              "      <th>3</th>\n",
              "      <td>Support Vector Machine</td>\n",
              "      <td>OnlyContent_Stemming</td>\n",
              "      <td>0.985086</td>\n",
              "    </tr>\n",
              "    <tr>\n",
              "      <th>15</th>\n",
              "      <td>Support Vector Machine</td>\n",
              "      <td>HeadingPlusContent_Stemming</td>\n",
              "      <td>0.984374</td>\n",
              "    </tr>\n",
              "    <tr>\n",
              "      <th>0</th>\n",
              "      <td>Neural Network</td>\n",
              "      <td>OnlyContent_Stemming</td>\n",
              "      <td>0.984372</td>\n",
              "    </tr>\n",
              "    <tr>\n",
              "      <th>9</th>\n",
              "      <td>Support Vector Machine</td>\n",
              "      <td>OnlyContent_Lemmatizer</td>\n",
              "      <td>0.984372</td>\n",
              "    </tr>\n",
              "    <tr>\n",
              "      <th>13</th>\n",
              "      <td>Logistic Regression</td>\n",
              "      <td>HeadingPlusContent_Stemming</td>\n",
              "      <td>0.984369</td>\n",
              "    </tr>\n",
              "    <tr>\n",
              "      <th>21</th>\n",
              "      <td>Support Vector Machine</td>\n",
              "      <td>HeadingPlusContent_Lemmatizer</td>\n",
              "      <td>0.983663</td>\n",
              "    </tr>\n",
              "    <tr>\n",
              "      <th>1</th>\n",
              "      <td>Logistic Regression</td>\n",
              "      <td>OnlyContent_Stemming</td>\n",
              "      <td>0.983658</td>\n",
              "    </tr>\n",
              "    <tr>\n",
              "      <th>19</th>\n",
              "      <td>Logistic Regression</td>\n",
              "      <td>HeadingPlusContent_Lemmatizer</td>\n",
              "      <td>0.983658</td>\n",
              "    </tr>\n",
              "    <tr>\n",
              "      <th>7</th>\n",
              "      <td>Logistic Regression</td>\n",
              "      <td>OnlyContent_Lemmatizer</td>\n",
              "      <td>0.982946</td>\n",
              "    </tr>\n",
              "    <tr>\n",
              "      <th>6</th>\n",
              "      <td>Neural Network</td>\n",
              "      <td>OnlyContent_Lemmatizer</td>\n",
              "      <td>0.982239</td>\n",
              "    </tr>\n",
              "    <tr>\n",
              "      <th>18</th>\n",
              "      <td>Neural Network</td>\n",
              "      <td>HeadingPlusContent_Lemmatizer</td>\n",
              "      <td>0.981527</td>\n",
              "    </tr>\n",
              "    <tr>\n",
              "      <th>12</th>\n",
              "      <td>Neural Network</td>\n",
              "      <td>HeadingPlusContent_Stemming</td>\n",
              "      <td>0.981525</td>\n",
              "    </tr>\n",
              "    <tr>\n",
              "      <th>20</th>\n",
              "      <td>Naive Bayes</td>\n",
              "      <td>HeadingPlusContent_Lemmatizer</td>\n",
              "      <td>0.980109</td>\n",
              "    </tr>\n",
              "    <tr>\n",
              "      <th>14</th>\n",
              "      <td>Naive Bayes</td>\n",
              "      <td>HeadingPlusContent_Stemming</td>\n",
              "      <td>0.977265</td>\n",
              "    </tr>\n",
              "    <tr>\n",
              "      <th>2</th>\n",
              "      <td>Naive Bayes</td>\n",
              "      <td>OnlyContent_Stemming</td>\n",
              "      <td>0.976550</td>\n",
              "    </tr>\n",
              "    <tr>\n",
              "      <th>8</th>\n",
              "      <td>Naive Bayes</td>\n",
              "      <td>OnlyContent_Lemmatizer</td>\n",
              "      <td>0.975841</td>\n",
              "    </tr>\n",
              "    <tr>\n",
              "      <th>10</th>\n",
              "      <td>Random Forest</td>\n",
              "      <td>OnlyContent_Lemmatizer</td>\n",
              "      <td>0.969448</td>\n",
              "    </tr>\n",
              "    <tr>\n",
              "      <th>4</th>\n",
              "      <td>Random Forest</td>\n",
              "      <td>OnlyContent_Stemming</td>\n",
              "      <td>0.968025</td>\n",
              "    </tr>\n",
              "    <tr>\n",
              "      <th>22</th>\n",
              "      <td>Random Forest</td>\n",
              "      <td>HeadingPlusContent_Lemmatizer</td>\n",
              "      <td>0.967323</td>\n",
              "    </tr>\n",
              "    <tr>\n",
              "      <th>5</th>\n",
              "      <td>K-Nearest Neighbors</td>\n",
              "      <td>OnlyContent_Stemming</td>\n",
              "      <td>0.966619</td>\n",
              "    </tr>\n",
              "    <tr>\n",
              "      <th>16</th>\n",
              "      <td>Random Forest</td>\n",
              "      <td>HeadingPlusContent_Stemming</td>\n",
              "      <td>0.965897</td>\n",
              "    </tr>\n",
              "    <tr>\n",
              "      <th>17</th>\n",
              "      <td>K-Nearest Neighbors</td>\n",
              "      <td>HeadingPlusContent_Stemming</td>\n",
              "      <td>0.964491</td>\n",
              "    </tr>\n",
              "    <tr>\n",
              "      <th>11</th>\n",
              "      <td>K-Nearest Neighbors</td>\n",
              "      <td>OnlyContent_Lemmatizer</td>\n",
              "      <td>0.960937</td>\n",
              "    </tr>\n",
              "    <tr>\n",
              "      <th>23</th>\n",
              "      <td>K-Nearest Neighbors</td>\n",
              "      <td>HeadingPlusContent_Lemmatizer</td>\n",
              "      <td>0.960935</td>\n",
              "    </tr>\n",
              "  </tbody>\n",
              "</table>\n",
              "</div>"
            ],
            "text/plain": [
              "                     Model                           type  Accuracy\n",
              "3   Support Vector Machine           OnlyContent_Stemming  0.985086\n",
              "15  Support Vector Machine    HeadingPlusContent_Stemming  0.984374\n",
              "0           Neural Network           OnlyContent_Stemming  0.984372\n",
              "9   Support Vector Machine         OnlyContent_Lemmatizer  0.984372\n",
              "13     Logistic Regression    HeadingPlusContent_Stemming  0.984369\n",
              "21  Support Vector Machine  HeadingPlusContent_Lemmatizer  0.983663\n",
              "1      Logistic Regression           OnlyContent_Stemming  0.983658\n",
              "19     Logistic Regression  HeadingPlusContent_Lemmatizer  0.983658\n",
              "7      Logistic Regression         OnlyContent_Lemmatizer  0.982946\n",
              "6           Neural Network         OnlyContent_Lemmatizer  0.982239\n",
              "18          Neural Network  HeadingPlusContent_Lemmatizer  0.981527\n",
              "12          Neural Network    HeadingPlusContent_Stemming  0.981525\n",
              "20             Naive Bayes  HeadingPlusContent_Lemmatizer  0.980109\n",
              "14             Naive Bayes    HeadingPlusContent_Stemming  0.977265\n",
              "2              Naive Bayes           OnlyContent_Stemming  0.976550\n",
              "8              Naive Bayes         OnlyContent_Lemmatizer  0.975841\n",
              "10           Random Forest         OnlyContent_Lemmatizer  0.969448\n",
              "4            Random Forest           OnlyContent_Stemming  0.968025\n",
              "22           Random Forest  HeadingPlusContent_Lemmatizer  0.967323\n",
              "5      K-Nearest Neighbors           OnlyContent_Stemming  0.966619\n",
              "16           Random Forest    HeadingPlusContent_Stemming  0.965897\n",
              "17     K-Nearest Neighbors    HeadingPlusContent_Stemming  0.964491\n",
              "11     K-Nearest Neighbors         OnlyContent_Lemmatizer  0.960937\n",
              "23     K-Nearest Neighbors  HeadingPlusContent_Lemmatizer  0.960935"
            ]
          },
          "metadata": {},
          "execution_count": 82
        }
      ]
    },
    {
      "cell_type": "code",
      "metadata": {
        "colab": {
          "base_uri": "https://localhost:8080/",
          "height": 894
        },
        "id": "39oQgoTKmgtO",
        "outputId": "17e1d697-10c8-4c76-c7f1-e4e9fd3bf6f2"
      },
      "source": [
        "plt.figure(figsize= (20,15))\n",
        "sns.barplot(data = df_score_reshape,x = 'Accuracy',y = 'Model',hue = 'type', palette='pastel')"
      ],
      "execution_count": 83,
      "outputs": [
        {
          "output_type": "execute_result",
          "data": {
            "text/plain": [
              "<matplotlib.axes._subplots.AxesSubplot at 0x7f8bfdd7ba50>"
            ]
          },
          "metadata": {},
          "execution_count": 83
        },
        {
          "output_type": "display_data",
          "data": {
            "image/png": "[encoded data removed]",
            "text/plain": [
              "<Figure size 1440x1080 with 1 Axes>"
            ]
          },
          "metadata": {
            "needs_background": "light"
          }
        }
      ]
    }
  ]
}